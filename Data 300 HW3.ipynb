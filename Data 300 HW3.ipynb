{
 "cells": [
  {
   "cell_type": "markdown",
   "id": "4f42ffdb",
   "metadata": {},
   "source": [
    "#### 42/44. Good job. "
   ]
  },
  {
   "cell_type": "code",
   "execution_count": 262,
   "id": "f1d67eda",
   "metadata": {},
   "outputs": [],
   "source": [
    "#python version 3.11.4  conda version 23.7.3\n"
   ]
  },
  {
   "cell_type": "code",
   "execution_count": 315,
   "id": "ca5987f9",
   "metadata": {},
   "outputs": [],
   "source": [
    "import pandas as pd # v 1.5.3\n",
    "import numpy as np # v 1.24.3\n",
    "import sklearn # v 0.0.3\n",
    "import pmdarima as pm # v 2.0.3\n",
    "import statsmodels.api as sm # v 0.14.0\n",
    "import matplotlib.pyplot as plt # 3.7.1\n",
    "import sweetviz as sv # 2.2.1\n",
    "import pytest_warnings as ww #v 0.3.1\n",
    "import warnings as w\n",
    "import statsmodels.tsa.stattools as stattools  # v 0.14.0\n",
    "import matplotlib.pyplot as plt # 3.7.1\n",
    "\n",
    "\n",
    "\n",
    "from sklearn.linear_model import LogisticRegression\n",
    "from sklearn.model_selection import train_test_split\n",
    "\n",
    "from statsmodels.tsa.stattools import adfuller # v 0.14.0\n",
    "from statsmodels.graphics.tsaplots import plot_acf, plot_pacf # v 0.14.0\n",
    "from statsmodels.tsa.arima_model import ARIMA # v 0.14.0\n",
    "\n",
    "from sklearn.metrics import mean_absolute_error\n",
    "from sklearn.metrics import mean_squared_error\n",
    "from sklearn.metrics import mean_absolute_percentage_error\n",
    "from sklearn.metrics import accuracy_score, precision_score, recall_score, confusion_matrix\n",
    "from sklearn.metrics import roc_curve, roc_auc_score\n",
    "\n",
    "\n",
    "from sklearn.impute import SimpleImputer\n",
    "from sklearn.preprocessing import LabelEncoder\n",
    "from sklearn.preprocessing import OneHotEncoder\n",
    "from sklearn.discriminant_analysis import LinearDiscriminantAnalysis\n",
    "\n",
    "\n",
    "from sklearn.model_selection import KFold"
   ]
  },
  {
   "cell_type": "code",
   "execution_count": null,
   "id": "a5f09c4a",
   "metadata": {},
   "outputs": [],
   "source": []
  },
  {
   "cell_type": "code",
   "execution_count": 316,
   "id": "0ef9d317",
   "metadata": {},
   "outputs": [],
   "source": [
    "ld = pd.read_csv(r\"/Users/thomassniezek/Downloads/loan_default_data_set.csv\")#r tells it to run row file path"
   ]
  },
  {
   "cell_type": "code",
   "execution_count": 317,
   "id": "ed1e55b4",
   "metadata": {},
   "outputs": [
    {
     "data": {
      "text/plain": [
       "((20000, 21),\n",
       " Index(['tot_balance', 'avg_bal_cards', 'credit_age', 'credit_age_good_account',\n",
       "        'credit_card_age', 'num_acc_30d_past_due_12_months',\n",
       "        'num_acc_30d_past_due_6_months', 'num_mortgage_currently_past_due',\n",
       "        'tot_amount_currently_past_due', 'num_inq_12_month',\n",
       "        'num_card_inq_24_month', 'num_card_12_month', 'num_auto_ 36_month',\n",
       "        'uti_open_card', 'pct_over_50_uti', 'uti_max_credit_line',\n",
       "        'pct_card_over_50_uti', 'ind_XYZ', 'rep_income', 'rep_education',\n",
       "        'Def_ind'],\n",
       "       dtype='object'),\n",
       " tot_balance                        float64\n",
       " avg_bal_cards                      float64\n",
       " credit_age                           int64\n",
       " credit_age_good_account              int64\n",
       " credit_card_age                      int64\n",
       " num_acc_30d_past_due_12_months       int64\n",
       " num_acc_30d_past_due_6_months        int64\n",
       " num_mortgage_currently_past_due      int64\n",
       " tot_amount_currently_past_due      float64\n",
       " num_inq_12_month                     int64\n",
       " num_card_inq_24_month                int64\n",
       " num_card_12_month                    int64\n",
       " num_auto_ 36_month                   int64\n",
       " uti_open_card                      float64\n",
       " pct_over_50_uti                    float64\n",
       " uti_max_credit_line                float64\n",
       " pct_card_over_50_uti               float64\n",
       " ind_XYZ                              int64\n",
       " rep_income                         float64\n",
       " rep_education                       object\n",
       " Def_ind                              int64\n",
       " dtype: object)"
      ]
     },
     "execution_count": 317,
     "metadata": {},
     "output_type": "execute_result"
    }
   ],
   "source": [
    "ld.shape, ld.columns, ld.dtypes # this code tells how many columns there are, the names of the columns and the type each column is. It also says how many rows,in this case, there are 20000. 21 columns \n"
   ]
  },
  {
   "cell_type": "code",
   "execution_count": 318,
   "id": "39a912cb",
   "metadata": {},
   "outputs": [
    {
     "data": {
      "text/html": [
       "<div>\n",
       "<style scoped>\n",
       "    .dataframe tbody tr th:only-of-type {\n",
       "        vertical-align: middle;\n",
       "    }\n",
       "\n",
       "    .dataframe tbody tr th {\n",
       "        vertical-align: top;\n",
       "    }\n",
       "\n",
       "    .dataframe thead th {\n",
       "        text-align: right;\n",
       "    }\n",
       "</style>\n",
       "<table border=\"1\" class=\"dataframe\">\n",
       "  <thead>\n",
       "    <tr style=\"text-align: right;\">\n",
       "      <th></th>\n",
       "      <th>tot_balance</th>\n",
       "      <th>avg_bal_cards</th>\n",
       "      <th>credit_age</th>\n",
       "      <th>credit_age_good_account</th>\n",
       "      <th>credit_card_age</th>\n",
       "      <th>num_acc_30d_past_due_12_months</th>\n",
       "      <th>num_acc_30d_past_due_6_months</th>\n",
       "      <th>num_mortgage_currently_past_due</th>\n",
       "      <th>tot_amount_currently_past_due</th>\n",
       "      <th>num_inq_12_month</th>\n",
       "      <th>...</th>\n",
       "      <th>num_card_12_month</th>\n",
       "      <th>num_auto_ 36_month</th>\n",
       "      <th>uti_open_card</th>\n",
       "      <th>pct_over_50_uti</th>\n",
       "      <th>uti_max_credit_line</th>\n",
       "      <th>pct_card_over_50_uti</th>\n",
       "      <th>ind_XYZ</th>\n",
       "      <th>rep_income</th>\n",
       "      <th>rep_education</th>\n",
       "      <th>Def_ind</th>\n",
       "    </tr>\n",
       "  </thead>\n",
       "  <tbody>\n",
       "    <tr>\n",
       "      <th>6522</th>\n",
       "      <td>0.0</td>\n",
       "      <td>4736.516393</td>\n",
       "      <td>377</td>\n",
       "      <td>165</td>\n",
       "      <td>340</td>\n",
       "      <td>0</td>\n",
       "      <td>0</td>\n",
       "      <td>0</td>\n",
       "      <td>0.0</td>\n",
       "      <td>0</td>\n",
       "      <td>...</td>\n",
       "      <td>0</td>\n",
       "      <td>0</td>\n",
       "      <td>0.45004</td>\n",
       "      <td>0.435943</td>\n",
       "      <td>0.311827</td>\n",
       "      <td>0.53592</td>\n",
       "      <td>0</td>\n",
       "      <td>229338.8875</td>\n",
       "      <td>college</td>\n",
       "      <td>0</td>\n",
       "    </tr>\n",
       "  </tbody>\n",
       "</table>\n",
       "<p>1 rows × 21 columns</p>\n",
       "</div>"
      ],
      "text/plain": [
       "      tot_balance  avg_bal_cards  credit_age  credit_age_good_account  \\\n",
       "6522          0.0    4736.516393         377                      165   \n",
       "\n",
       "      credit_card_age  num_acc_30d_past_due_12_months  \\\n",
       "6522              340                               0   \n",
       "\n",
       "      num_acc_30d_past_due_6_months  num_mortgage_currently_past_due  \\\n",
       "6522                              0                                0   \n",
       "\n",
       "      tot_amount_currently_past_due  num_inq_12_month  ...  num_card_12_month  \\\n",
       "6522                            0.0                 0  ...                  0   \n",
       "\n",
       "      num_auto_ 36_month  uti_open_card  pct_over_50_uti  uti_max_credit_line  \\\n",
       "6522                   0        0.45004         0.435943             0.311827   \n",
       "\n",
       "      pct_card_over_50_uti  ind_XYZ   rep_income  rep_education Def_ind  \n",
       "6522               0.53592        0  229338.8875        college       0  \n",
       "\n",
       "[1 rows x 21 columns]"
      ]
     },
     "execution_count": 318,
     "metadata": {},
     "output_type": "execute_result"
    }
   ],
   "source": [
    "ld[ld.tot_balance<ld.avg_bal_cards]#finds rows where this is true, your total balance should not be smaller than credit cards balance beacuse credit card balance is included in total balance"
   ]
  },
  {
   "cell_type": "code",
   "execution_count": 319,
   "id": "dbc095a7",
   "metadata": {},
   "outputs": [
    {
     "data": {
      "text/html": [
       "<div>\n",
       "<style scoped>\n",
       "    .dataframe tbody tr th:only-of-type {\n",
       "        vertical-align: middle;\n",
       "    }\n",
       "\n",
       "    .dataframe tbody tr th {\n",
       "        vertical-align: top;\n",
       "    }\n",
       "\n",
       "    .dataframe thead th {\n",
       "        text-align: right;\n",
       "    }\n",
       "</style>\n",
       "<table border=\"1\" class=\"dataframe\">\n",
       "  <thead>\n",
       "    <tr style=\"text-align: right;\">\n",
       "      <th></th>\n",
       "      <th>tot_balance</th>\n",
       "      <th>avg_bal_cards</th>\n",
       "      <th>credit_age</th>\n",
       "      <th>credit_age_good_account</th>\n",
       "      <th>credit_card_age</th>\n",
       "      <th>num_acc_30d_past_due_12_months</th>\n",
       "      <th>num_acc_30d_past_due_6_months</th>\n",
       "      <th>num_mortgage_currently_past_due</th>\n",
       "      <th>tot_amount_currently_past_due</th>\n",
       "      <th>num_inq_12_month</th>\n",
       "      <th>...</th>\n",
       "      <th>num_card_12_month</th>\n",
       "      <th>num_auto_ 36_month</th>\n",
       "      <th>uti_open_card</th>\n",
       "      <th>pct_over_50_uti</th>\n",
       "      <th>uti_max_credit_line</th>\n",
       "      <th>pct_card_over_50_uti</th>\n",
       "      <th>ind_XYZ</th>\n",
       "      <th>rep_income</th>\n",
       "      <th>rep_education</th>\n",
       "      <th>Def_ind</th>\n",
       "    </tr>\n",
       "  </thead>\n",
       "  <tbody>\n",
       "    <tr>\n",
       "      <th>0</th>\n",
       "      <td>102956.1101</td>\n",
       "      <td>14819.05740</td>\n",
       "      <td>238</td>\n",
       "      <td>104</td>\n",
       "      <td>264</td>\n",
       "      <td>0</td>\n",
       "      <td>0</td>\n",
       "      <td>0</td>\n",
       "      <td>0.0</td>\n",
       "      <td>0</td>\n",
       "      <td>...</td>\n",
       "      <td>1</td>\n",
       "      <td>0</td>\n",
       "      <td>0.366737</td>\n",
       "      <td>0.342183</td>\n",
       "      <td>0.513934</td>\n",
       "      <td>0.550866</td>\n",
       "      <td>0</td>\n",
       "      <td>118266.32130</td>\n",
       "      <td>college</td>\n",
       "      <td>0</td>\n",
       "    </tr>\n",
       "    <tr>\n",
       "      <th>1</th>\n",
       "      <td>132758.7258</td>\n",
       "      <td>18951.93455</td>\n",
       "      <td>384</td>\n",
       "      <td>197</td>\n",
       "      <td>371</td>\n",
       "      <td>0</td>\n",
       "      <td>0</td>\n",
       "      <td>0</td>\n",
       "      <td>0.0</td>\n",
       "      <td>0</td>\n",
       "      <td>...</td>\n",
       "      <td>0</td>\n",
       "      <td>0</td>\n",
       "      <td>0.490809</td>\n",
       "      <td>0.540671</td>\n",
       "      <td>0.418016</td>\n",
       "      <td>NaN</td>\n",
       "      <td>0</td>\n",
       "      <td>89365.05765</td>\n",
       "      <td>college</td>\n",
       "      <td>0</td>\n",
       "    </tr>\n",
       "    <tr>\n",
       "      <th>2</th>\n",
       "      <td>124658.9174</td>\n",
       "      <td>15347.92969</td>\n",
       "      <td>277</td>\n",
       "      <td>110</td>\n",
       "      <td>288</td>\n",
       "      <td>0</td>\n",
       "      <td>0</td>\n",
       "      <td>0</td>\n",
       "      <td>0.0</td>\n",
       "      <td>0</td>\n",
       "      <td>...</td>\n",
       "      <td>0</td>\n",
       "      <td>0</td>\n",
       "      <td>0.359074</td>\n",
       "      <td>0.338560</td>\n",
       "      <td>0.341627</td>\n",
       "      <td>0.451417</td>\n",
       "      <td>0</td>\n",
       "      <td>201365.12130</td>\n",
       "      <td>college</td>\n",
       "      <td>0</td>\n",
       "    </tr>\n",
       "    <tr>\n",
       "      <th>3</th>\n",
       "      <td>133968.5369</td>\n",
       "      <td>14050.71334</td>\n",
       "      <td>375</td>\n",
       "      <td>224</td>\n",
       "      <td>343</td>\n",
       "      <td>0</td>\n",
       "      <td>0</td>\n",
       "      <td>0</td>\n",
       "      <td>0.0</td>\n",
       "      <td>2</td>\n",
       "      <td>...</td>\n",
       "      <td>1</td>\n",
       "      <td>0</td>\n",
       "      <td>0.700379</td>\n",
       "      <td>0.683589</td>\n",
       "      <td>0.542940</td>\n",
       "      <td>0.607843</td>\n",
       "      <td>0</td>\n",
       "      <td>191794.48550</td>\n",
       "      <td>college</td>\n",
       "      <td>0</td>\n",
       "    </tr>\n",
       "    <tr>\n",
       "      <th>4</th>\n",
       "      <td>143601.8017</td>\n",
       "      <td>14858.51527</td>\n",
       "      <td>374</td>\n",
       "      <td>155</td>\n",
       "      <td>278</td>\n",
       "      <td>0</td>\n",
       "      <td>0</td>\n",
       "      <td>0</td>\n",
       "      <td>0.0</td>\n",
       "      <td>0</td>\n",
       "      <td>...</td>\n",
       "      <td>0</td>\n",
       "      <td>0</td>\n",
       "      <td>0.647351</td>\n",
       "      <td>0.510812</td>\n",
       "      <td>0.632934</td>\n",
       "      <td>0.573680</td>\n",
       "      <td>0</td>\n",
       "      <td>161465.36790</td>\n",
       "      <td>graduate</td>\n",
       "      <td>0</td>\n",
       "    </tr>\n",
       "  </tbody>\n",
       "</table>\n",
       "<p>5 rows × 21 columns</p>\n",
       "</div>"
      ],
      "text/plain": [
       "   tot_balance  avg_bal_cards  credit_age  credit_age_good_account  \\\n",
       "0  102956.1101    14819.05740         238                      104   \n",
       "1  132758.7258    18951.93455         384                      197   \n",
       "2  124658.9174    15347.92969         277                      110   \n",
       "3  133968.5369    14050.71334         375                      224   \n",
       "4  143601.8017    14858.51527         374                      155   \n",
       "\n",
       "   credit_card_age  num_acc_30d_past_due_12_months  \\\n",
       "0              264                               0   \n",
       "1              371                               0   \n",
       "2              288                               0   \n",
       "3              343                               0   \n",
       "4              278                               0   \n",
       "\n",
       "   num_acc_30d_past_due_6_months  num_mortgage_currently_past_due  \\\n",
       "0                              0                                0   \n",
       "1                              0                                0   \n",
       "2                              0                                0   \n",
       "3                              0                                0   \n",
       "4                              0                                0   \n",
       "\n",
       "   tot_amount_currently_past_due  num_inq_12_month  ...  num_card_12_month  \\\n",
       "0                            0.0                 0  ...                  1   \n",
       "1                            0.0                 0  ...                  0   \n",
       "2                            0.0                 0  ...                  0   \n",
       "3                            0.0                 2  ...                  1   \n",
       "4                            0.0                 0  ...                  0   \n",
       "\n",
       "   num_auto_ 36_month  uti_open_card  pct_over_50_uti  uti_max_credit_line  \\\n",
       "0                   0       0.366737         0.342183             0.513934   \n",
       "1                   0       0.490809         0.540671             0.418016   \n",
       "2                   0       0.359074         0.338560             0.341627   \n",
       "3                   0       0.700379         0.683589             0.542940   \n",
       "4                   0       0.647351         0.510812             0.632934   \n",
       "\n",
       "   pct_card_over_50_uti  ind_XYZ    rep_income  rep_education Def_ind  \n",
       "0              0.550866        0  118266.32130        college       0  \n",
       "1                   NaN        0   89365.05765        college       0  \n",
       "2              0.451417        0  201365.12130        college       0  \n",
       "3              0.607843        0  191794.48550        college       0  \n",
       "4              0.573680        0  161465.36790       graduate       0  \n",
       "\n",
       "[5 rows x 21 columns]"
      ]
     },
     "execution_count": 319,
     "metadata": {},
     "output_type": "execute_result"
    }
   ],
   "source": [
    "ld.head()"
   ]
  },
  {
   "cell_type": "code",
   "execution_count": 320,
   "id": "944d9cf4",
   "metadata": {},
   "outputs": [
    {
     "data": {
      "text/html": [
       "<div>\n",
       "<style scoped>\n",
       "    .dataframe tbody tr th:only-of-type {\n",
       "        vertical-align: middle;\n",
       "    }\n",
       "\n",
       "    .dataframe tbody tr th {\n",
       "        vertical-align: top;\n",
       "    }\n",
       "\n",
       "    .dataframe thead th {\n",
       "        text-align: right;\n",
       "    }\n",
       "</style>\n",
       "<table border=\"1\" class=\"dataframe\">\n",
       "  <thead>\n",
       "    <tr style=\"text-align: right;\">\n",
       "      <th></th>\n",
       "      <th>tot_balance</th>\n",
       "      <th>avg_bal_cards</th>\n",
       "      <th>credit_age</th>\n",
       "      <th>credit_age_good_account</th>\n",
       "      <th>credit_card_age</th>\n",
       "      <th>num_acc_30d_past_due_12_months</th>\n",
       "      <th>num_acc_30d_past_due_6_months</th>\n",
       "      <th>num_mortgage_currently_past_due</th>\n",
       "      <th>tot_amount_currently_past_due</th>\n",
       "      <th>num_inq_12_month</th>\n",
       "      <th>...</th>\n",
       "      <th>num_card_12_month</th>\n",
       "      <th>num_auto_ 36_month</th>\n",
       "      <th>uti_open_card</th>\n",
       "      <th>pct_over_50_uti</th>\n",
       "      <th>uti_max_credit_line</th>\n",
       "      <th>pct_card_over_50_uti</th>\n",
       "      <th>ind_XYZ</th>\n",
       "      <th>rep_income</th>\n",
       "      <th>rep_education</th>\n",
       "      <th>Def_ind</th>\n",
       "    </tr>\n",
       "  </thead>\n",
       "  <tbody>\n",
       "    <tr>\n",
       "      <th>19995</th>\n",
       "      <td>89665.13930</td>\n",
       "      <td>11521.159950</td>\n",
       "      <td>319</td>\n",
       "      <td>139</td>\n",
       "      <td>363</td>\n",
       "      <td>0</td>\n",
       "      <td>0</td>\n",
       "      <td>0</td>\n",
       "      <td>0.000000</td>\n",
       "      <td>0</td>\n",
       "      <td>...</td>\n",
       "      <td>0</td>\n",
       "      <td>0</td>\n",
       "      <td>0.535628</td>\n",
       "      <td>0.634712</td>\n",
       "      <td>0.527230</td>\n",
       "      <td>0.602345</td>\n",
       "      <td>0</td>\n",
       "      <td>NaN</td>\n",
       "      <td>high_school</td>\n",
       "      <td>0</td>\n",
       "    </tr>\n",
       "    <tr>\n",
       "      <th>19996</th>\n",
       "      <td>136211.63530</td>\n",
       "      <td>17977.054130</td>\n",
       "      <td>297</td>\n",
       "      <td>137</td>\n",
       "      <td>273</td>\n",
       "      <td>0</td>\n",
       "      <td>0</td>\n",
       "      <td>0</td>\n",
       "      <td>0.000000</td>\n",
       "      <td>2</td>\n",
       "      <td>...</td>\n",
       "      <td>0</td>\n",
       "      <td>0</td>\n",
       "      <td>0.464774</td>\n",
       "      <td>0.450030</td>\n",
       "      <td>0.545108</td>\n",
       "      <td>NaN</td>\n",
       "      <td>1</td>\n",
       "      <td>NaN</td>\n",
       "      <td>high_school</td>\n",
       "      <td>0</td>\n",
       "    </tr>\n",
       "    <tr>\n",
       "      <th>19997</th>\n",
       "      <td>110721.87650</td>\n",
       "      <td>13316.820540</td>\n",
       "      <td>304</td>\n",
       "      <td>151</td>\n",
       "      <td>257</td>\n",
       "      <td>0</td>\n",
       "      <td>0</td>\n",
       "      <td>0</td>\n",
       "      <td>0.000000</td>\n",
       "      <td>0</td>\n",
       "      <td>...</td>\n",
       "      <td>0</td>\n",
       "      <td>0</td>\n",
       "      <td>0.264544</td>\n",
       "      <td>0.340289</td>\n",
       "      <td>0.412155</td>\n",
       "      <td>NaN</td>\n",
       "      <td>0</td>\n",
       "      <td>157706.15810</td>\n",
       "      <td>college</td>\n",
       "      <td>0</td>\n",
       "    </tr>\n",
       "    <tr>\n",
       "      <th>19998</th>\n",
       "      <td>96742.36371</td>\n",
       "      <td>11743.262370</td>\n",
       "      <td>275</td>\n",
       "      <td>141</td>\n",
       "      <td>294</td>\n",
       "      <td>2</td>\n",
       "      <td>1</td>\n",
       "      <td>1</td>\n",
       "      <td>3009.387661</td>\n",
       "      <td>0</td>\n",
       "      <td>...</td>\n",
       "      <td>0</td>\n",
       "      <td>0</td>\n",
       "      <td>0.609226</td>\n",
       "      <td>0.582007</td>\n",
       "      <td>0.301612</td>\n",
       "      <td>0.697052</td>\n",
       "      <td>1</td>\n",
       "      <td>97387.97414</td>\n",
       "      <td>college</td>\n",
       "      <td>1</td>\n",
       "    </tr>\n",
       "    <tr>\n",
       "      <th>19999</th>\n",
       "      <td>107338.82070</td>\n",
       "      <td>7942.952546</td>\n",
       "      <td>325</td>\n",
       "      <td>195</td>\n",
       "      <td>302</td>\n",
       "      <td>0</td>\n",
       "      <td>0</td>\n",
       "      <td>0</td>\n",
       "      <td>0.000000</td>\n",
       "      <td>0</td>\n",
       "      <td>...</td>\n",
       "      <td>0</td>\n",
       "      <td>0</td>\n",
       "      <td>0.358067</td>\n",
       "      <td>0.435511</td>\n",
       "      <td>0.349246</td>\n",
       "      <td>NaN</td>\n",
       "      <td>0</td>\n",
       "      <td>165447.16380</td>\n",
       "      <td>college</td>\n",
       "      <td>0</td>\n",
       "    </tr>\n",
       "  </tbody>\n",
       "</table>\n",
       "<p>5 rows × 21 columns</p>\n",
       "</div>"
      ],
      "text/plain": [
       "        tot_balance  avg_bal_cards  credit_age  credit_age_good_account  \\\n",
       "19995   89665.13930   11521.159950         319                      139   \n",
       "19996  136211.63530   17977.054130         297                      137   \n",
       "19997  110721.87650   13316.820540         304                      151   \n",
       "19998   96742.36371   11743.262370         275                      141   \n",
       "19999  107338.82070    7942.952546         325                      195   \n",
       "\n",
       "       credit_card_age  num_acc_30d_past_due_12_months  \\\n",
       "19995              363                               0   \n",
       "19996              273                               0   \n",
       "19997              257                               0   \n",
       "19998              294                               2   \n",
       "19999              302                               0   \n",
       "\n",
       "       num_acc_30d_past_due_6_months  num_mortgage_currently_past_due  \\\n",
       "19995                              0                                0   \n",
       "19996                              0                                0   \n",
       "19997                              0                                0   \n",
       "19998                              1                                1   \n",
       "19999                              0                                0   \n",
       "\n",
       "       tot_amount_currently_past_due  num_inq_12_month  ...  \\\n",
       "19995                       0.000000                 0  ...   \n",
       "19996                       0.000000                 2  ...   \n",
       "19997                       0.000000                 0  ...   \n",
       "19998                    3009.387661                 0  ...   \n",
       "19999                       0.000000                 0  ...   \n",
       "\n",
       "       num_card_12_month  num_auto_ 36_month  uti_open_card  pct_over_50_uti  \\\n",
       "19995                  0                   0       0.535628         0.634712   \n",
       "19996                  0                   0       0.464774         0.450030   \n",
       "19997                  0                   0       0.264544         0.340289   \n",
       "19998                  0                   0       0.609226         0.582007   \n",
       "19999                  0                   0       0.358067         0.435511   \n",
       "\n",
       "       uti_max_credit_line  pct_card_over_50_uti  ind_XYZ    rep_income  \\\n",
       "19995             0.527230              0.602345        0           NaN   \n",
       "19996             0.545108                   NaN        1           NaN   \n",
       "19997             0.412155                   NaN        0  157706.15810   \n",
       "19998             0.301612              0.697052        1   97387.97414   \n",
       "19999             0.349246                   NaN        0  165447.16380   \n",
       "\n",
       "       rep_education Def_ind  \n",
       "19995    high_school       0  \n",
       "19996    high_school       0  \n",
       "19997        college       0  \n",
       "19998        college       1  \n",
       "19999        college       0  \n",
       "\n",
       "[5 rows x 21 columns]"
      ]
     },
     "execution_count": 320,
     "metadata": {},
     "output_type": "execute_result"
    }
   ],
   "source": [
    "ld.tail()"
   ]
  },
  {
   "cell_type": "code",
   "execution_count": 321,
   "id": "8b2438b4",
   "metadata": {},
   "outputs": [
    {
     "data": {
      "application/vnd.jupyter.widget-view+json": {
       "model_id": "4de34cf68d664a3197e6a48df48d72b8",
       "version_major": 2,
       "version_minor": 0
      },
      "text/plain": [
       "                                             |      | [  0%]   00:00 -> (? left)"
      ]
     },
     "metadata": {},
     "output_type": "display_data"
    }
   ],
   "source": [
    "my_report = sv.analyze(ld)"
   ]
  },
  {
   "cell_type": "code",
   "execution_count": 322,
   "id": "e32d94d4",
   "metadata": {},
   "outputs": [
    {
     "name": "stdout",
     "output_type": "stream",
     "text": [
      "Report SWEETVIZ_REPORT.html was generated! NOTEBOOK/COLAB USERS: the web browser MAY not pop up, regardless, the report IS saved in your notebook/colab files.\n"
     ]
    }
   ],
   "source": [
    "my_report.show_html()"
   ]
  },
  {
   "cell_type": "code",
   "execution_count": 270,
   "id": "2c2fb7a0",
   "metadata": {},
   "outputs": [],
   "source": [
    "#sklearn.model_selection.Kfold # does k fold validation testing\n",
    "#sklearn.model_selection.LeaveOneOut "
   ]
  },
  {
   "cell_type": "code",
   "execution_count": 271,
   "id": "9276da03",
   "metadata": {},
   "outputs": [],
   "source": [
    "# 3 different variables contain missing values. These variables are rep_education, missing 1 value, rep_income missing 1559 values (8%), and pct_card_over_50 missing 1958 values(10%)\n",
    "# I chose to use the mean of the data to fill these missing values and the mode for education\n"
   ]
  },
  {
   "cell_type": "code",
   "execution_count": 272,
   "id": "83d20a0f",
   "metadata": {},
   "outputs": [
    {
     "data": {
      "text/plain": [
       "0    0.9\n",
       "1    0.1\n",
       "Name: Def_ind, dtype: float64"
      ]
     },
     "execution_count": 272,
     "metadata": {},
     "output_type": "execute_result"
    }
   ],
   "source": [
    "ld['Def_ind'].value_counts(normalize=True) #shows the y is not balanced. one is .9 and the other is .1"
   ]
  },
  {
   "cell_type": "code",
   "execution_count": null,
   "id": "e7ab4c2d",
   "metadata": {},
   "outputs": [],
   "source": []
  },
  {
   "cell_type": "code",
   "execution_count": 273,
   "id": "5cd61810",
   "metadata": {},
   "outputs": [],
   "source": [
    "mean_rep_income = ld['rep_income'].mean()\n",
    "mean_pct_card_over_50 = ld['pct_card_over_50_uti'].mean()\n",
    "mode_rep_education = ld['rep_education'].mode().iloc[0]\n",
    "\n",
    "# finds the mode and mean for the variables and assigns it to its own variable"
   ]
  },
  {
   "cell_type": "code",
   "execution_count": 274,
   "id": "c83c253f",
   "metadata": {},
   "outputs": [],
   "source": [
    "# Fill missing values in the specified columns with their respective means\n",
    "ld['rep_income'].fillna(mean_rep_income, inplace=True)\n",
    "ld['pct_card_over_50_uti'].fillna(mean_pct_card_over_50, inplace=True)\n",
    "ld['rep_education'].fillna(mode_rep_education, inplace=True)\n",
    "#fills all of the none values with the variables we just created in the code before. "
   ]
  },
  {
   "cell_type": "code",
   "execution_count": 275,
   "id": "3af1e7a2",
   "metadata": {},
   "outputs": [
    {
     "data": {
      "application/vnd.jupyter.widget-view+json": {
       "model_id": "4438a61436ea4485a0f8b11b0aee36f6",
       "version_major": 2,
       "version_minor": 0
      },
      "text/plain": [
       "                                             |      | [  0%]   00:00 -> (? left)"
      ]
     },
     "metadata": {},
     "output_type": "display_data"
    }
   ],
   "source": [
    "my_report = sv.analyze(ld)"
   ]
  },
  {
   "cell_type": "code",
   "execution_count": 203,
   "id": "123a34c9",
   "metadata": {},
   "outputs": [
    {
     "name": "stdout",
     "output_type": "stream",
     "text": [
      "Report SWEETVIZ_REPORT.html was generated! NOTEBOOK/COLAB USERS: the web browser MAY not pop up, regardless, the report IS saved in your notebook/colab files.\n"
     ]
    }
   ],
   "source": [
    "my_report.show_html()"
   ]
  },
  {
   "cell_type": "code",
   "execution_count": 276,
   "id": "e0e30378",
   "metadata": {},
   "outputs": [],
   "source": [
    "#in this data, graduate is underrepresented as well as other and a little bit highschool. Graduate makes up 12% and highschool makes up 27% comapred to colleges 61%"
   ]
  },
  {
   "cell_type": "code",
   "execution_count": null,
   "id": "7f863001",
   "metadata": {},
   "outputs": [],
   "source": []
  },
  {
   "cell_type": "code",
   "execution_count": 277,
   "id": "3094a2c8",
   "metadata": {},
   "outputs": [],
   "source": [
    "#rep_income looks approximately normal although it could be skewed from the choice of me making the data use the mean for any N/A values. It may make it appear more normal than it actual is. "
   ]
  },
  {
   "cell_type": "code",
   "execution_count": 278,
   "id": "3e52b0dc",
   "metadata": {},
   "outputs": [],
   "source": [
    "default_by_education = ld.groupby('rep_education')['Def_ind'].mean().reset_index() #find the mean percentage of peopel that default for each variable. "
   ]
  },
  {
   "cell_type": "code",
   "execution_count": 279,
   "id": "42389d8e",
   "metadata": {},
   "outputs": [
    {
     "name": "stdout",
     "output_type": "stream",
     "text": [
      "  rep_education   Def_ind\n",
      "0       college  0.096968\n",
      "1      graduate  0.081879\n",
      "2   high_school  0.115732\n",
      "3         other  0.077465\n"
     ]
    }
   ],
   "source": [
    "print(default_by_education) #prints the previous line of code"
   ]
  },
  {
   "cell_type": "code",
   "execution_count": 280,
   "id": "aee4fb98",
   "metadata": {},
   "outputs": [],
   "source": [
    "#It appears that high_school are most likely to default on loans as they are about 2% more likely than any other group "
   ]
  },
  {
   "cell_type": "code",
   "execution_count": 281,
   "id": "f033d9b4",
   "metadata": {},
   "outputs": [],
   "source": [
    "#There looks to be multicollinearity between several variables such as num_acc_30d_past_due_12_months and \n",
    "# tot_amount_currently_past_due. tot_amount_currently_past_due is also strongly correlated with \n",
    "#num_acc_30d_past_due_6_month and num_mortgage_currently_past_due. You can see this by looking at the coorelation ratio in sweetviz"
   ]
  },
  {
   "cell_type": "code",
   "execution_count": 282,
   "id": "9697a44f",
   "metadata": {},
   "outputs": [],
   "source": [
    "#num_inq_12_month is also strongly coorelated with num_card_inq_24_month. You can see this by looking at the correlation ratio in the sweetviz. "
   ]
  },
  {
   "cell_type": "code",
   "execution_count": 283,
   "id": "3165d75f",
   "metadata": {},
   "outputs": [],
   "source": []
  },
  {
   "cell_type": "code",
   "execution_count": 284,
   "id": "5f9ecf6c",
   "metadata": {},
   "outputs": [],
   "source": []
  },
  {
   "cell_type": "markdown",
   "id": "10c60414",
   "metadata": {},
   "source": [
    "#### You are not explaining what  the code in the cells below is achieving. (-2)"
   ]
  },
  {
   "cell_type": "code",
   "execution_count": 286,
   "id": "5a09a34e",
   "metadata": {},
   "outputs": [],
   "source": [
    "encoder = OneHotEncoder(sparse_output=False, drop='first')  # Use drop='first' to avoid multicollinearity\n",
    "string_encoded = encoder.fit_transform(ld[['rep_education']])"
   ]
  },
  {
   "cell_type": "code",
   "execution_count": 287,
   "id": "8dc3e925",
   "metadata": {},
   "outputs": [],
   "source": [
    "feature_names = encoder.get_feature_names_out(input_features=['rep_education'])"
   ]
  },
  {
   "cell_type": "code",
   "execution_count": 288,
   "id": "bce08431",
   "metadata": {},
   "outputs": [],
   "source": [
    "string_encoded_ld = pd.DataFrame(string_encoded, columns=feature_names)"
   ]
  },
  {
   "cell_type": "code",
   "execution_count": 289,
   "id": "93c0bf3d",
   "metadata": {},
   "outputs": [],
   "source": [
    "ld = pd.concat([ld, string_encoded_ld], axis=1)"
   ]
  },
  {
   "cell_type": "code",
   "execution_count": 290,
   "id": "166039d1",
   "metadata": {},
   "outputs": [],
   "source": [
    "X = ld.drop(['rep_education', 'Def_ind'], axis=1)  # Exclude the original string column\n",
    "y = ld['Def_ind']  # sets the y value"
   ]
  },
  {
   "cell_type": "code",
   "execution_count": 226,
   "id": "a4aa25da",
   "metadata": {},
   "outputs": [],
   "source": []
  },
  {
   "cell_type": "code",
   "execution_count": 227,
   "id": "4ec61aca",
   "metadata": {},
   "outputs": [],
   "source": []
  },
  {
   "cell_type": "code",
   "execution_count": 291,
   "id": "27498d5c",
   "metadata": {},
   "outputs": [],
   "source": [
    "X_train, X_test, y_train, y_test = train_test_split(X, y, test_size=0.3, random_state=6)"
   ]
  },
  {
   "cell_type": "code",
   "execution_count": 306,
   "id": "ef8fec5a",
   "metadata": {},
   "outputs": [],
   "source": [
    "model = LogisticRegression(solver= 'saga', max_iter =10000) #creates the logistic regression class, "
   ]
  },
  {
   "cell_type": "code",
   "execution_count": 307,
   "id": "b047c925",
   "metadata": {},
   "outputs": [
    {
     "data": {
      "text/html": [
       "<style>#sk-container-id-6 {color: black;}#sk-container-id-6 pre{padding: 0;}#sk-container-id-6 div.sk-toggleable {background-color: white;}#sk-container-id-6 label.sk-toggleable__label {cursor: pointer;display: block;width: 100%;margin-bottom: 0;padding: 0.3em;box-sizing: border-box;text-align: center;}#sk-container-id-6 label.sk-toggleable__label-arrow:before {content: \"▸\";float: left;margin-right: 0.25em;color: #696969;}#sk-container-id-6 label.sk-toggleable__label-arrow:hover:before {color: black;}#sk-container-id-6 div.sk-estimator:hover label.sk-toggleable__label-arrow:before {color: black;}#sk-container-id-6 div.sk-toggleable__content {max-height: 0;max-width: 0;overflow: hidden;text-align: left;background-color: #f0f8ff;}#sk-container-id-6 div.sk-toggleable__content pre {margin: 0.2em;color: black;border-radius: 0.25em;background-color: #f0f8ff;}#sk-container-id-6 input.sk-toggleable__control:checked~div.sk-toggleable__content {max-height: 200px;max-width: 100%;overflow: auto;}#sk-container-id-6 input.sk-toggleable__control:checked~label.sk-toggleable__label-arrow:before {content: \"▾\";}#sk-container-id-6 div.sk-estimator input.sk-toggleable__control:checked~label.sk-toggleable__label {background-color: #d4ebff;}#sk-container-id-6 div.sk-label input.sk-toggleable__control:checked~label.sk-toggleable__label {background-color: #d4ebff;}#sk-container-id-6 input.sk-hidden--visually {border: 0;clip: rect(1px 1px 1px 1px);clip: rect(1px, 1px, 1px, 1px);height: 1px;margin: -1px;overflow: hidden;padding: 0;position: absolute;width: 1px;}#sk-container-id-6 div.sk-estimator {font-family: monospace;background-color: #f0f8ff;border: 1px dotted black;border-radius: 0.25em;box-sizing: border-box;margin-bottom: 0.5em;}#sk-container-id-6 div.sk-estimator:hover {background-color: #d4ebff;}#sk-container-id-6 div.sk-parallel-item::after {content: \"\";width: 100%;border-bottom: 1px solid gray;flex-grow: 1;}#sk-container-id-6 div.sk-label:hover label.sk-toggleable__label {background-color: #d4ebff;}#sk-container-id-6 div.sk-serial::before {content: \"\";position: absolute;border-left: 1px solid gray;box-sizing: border-box;top: 0;bottom: 0;left: 50%;z-index: 0;}#sk-container-id-6 div.sk-serial {display: flex;flex-direction: column;align-items: center;background-color: white;padding-right: 0.2em;padding-left: 0.2em;position: relative;}#sk-container-id-6 div.sk-item {position: relative;z-index: 1;}#sk-container-id-6 div.sk-parallel {display: flex;align-items: stretch;justify-content: center;background-color: white;position: relative;}#sk-container-id-6 div.sk-item::before, #sk-container-id-6 div.sk-parallel-item::before {content: \"\";position: absolute;border-left: 1px solid gray;box-sizing: border-box;top: 0;bottom: 0;left: 50%;z-index: -1;}#sk-container-id-6 div.sk-parallel-item {display: flex;flex-direction: column;z-index: 1;position: relative;background-color: white;}#sk-container-id-6 div.sk-parallel-item:first-child::after {align-self: flex-end;width: 50%;}#sk-container-id-6 div.sk-parallel-item:last-child::after {align-self: flex-start;width: 50%;}#sk-container-id-6 div.sk-parallel-item:only-child::after {width: 0;}#sk-container-id-6 div.sk-dashed-wrapped {border: 1px dashed gray;margin: 0 0.4em 0.5em 0.4em;box-sizing: border-box;padding-bottom: 0.4em;background-color: white;}#sk-container-id-6 div.sk-label label {font-family: monospace;font-weight: bold;display: inline-block;line-height: 1.2em;}#sk-container-id-6 div.sk-label-container {text-align: center;}#sk-container-id-6 div.sk-container {/* jupyter's `normalize.less` sets `[hidden] { display: none; }` but bootstrap.min.css set `[hidden] { display: none !important; }` so we also need the `!important` here to be able to override the default hidden behavior on the sphinx rendered scikit-learn.org. See: https://github.com/scikit-learn/scikit-learn/issues/21755 */display: inline-block !important;position: relative;}#sk-container-id-6 div.sk-text-repr-fallback {display: none;}</style><div id=\"sk-container-id-6\" class=\"sk-top-container\"><div class=\"sk-text-repr-fallback\"><pre>LogisticRegression(max_iter=10000, solver=&#x27;saga&#x27;)</pre><b>In a Jupyter environment, please rerun this cell to show the HTML representation or trust the notebook. <br />On GitHub, the HTML representation is unable to render, please try loading this page with nbviewer.org.</b></div><div class=\"sk-container\" hidden><div class=\"sk-item\"><div class=\"sk-estimator sk-toggleable\"><input class=\"sk-toggleable__control sk-hidden--visually\" id=\"sk-estimator-id-6\" type=\"checkbox\" checked><label for=\"sk-estimator-id-6\" class=\"sk-toggleable__label sk-toggleable__label-arrow\">LogisticRegression</label><div class=\"sk-toggleable__content\"><pre>LogisticRegression(max_iter=10000, solver=&#x27;saga&#x27;)</pre></div></div></div></div></div>"
      ],
      "text/plain": [
       "LogisticRegression(max_iter=10000, solver='saga')"
      ]
     },
     "execution_count": 307,
     "metadata": {},
     "output_type": "execute_result"
    }
   ],
   "source": [
    "model.fit(X_train,y_train) #fits the training group"
   ]
  },
  {
   "cell_type": "code",
   "execution_count": 309,
   "id": "34cf5f6b",
   "metadata": {},
   "outputs": [],
   "source": [
    "y_pred = model.predict(X_test)"
   ]
  },
  {
   "cell_type": "code",
   "execution_count": 310,
   "id": "fef88a7c",
   "metadata": {},
   "outputs": [],
   "source": [
    "accuracy2 = accuracy_score(y_test, y_pred)\n",
    "precision2 = precision_score(y_test, y_pred, average='weighted')  # chose weighted becasue it calculates metrics for each class and takes the mean with class weights based on support.\n",
    "recall2 = recall_score(y_test, y_pred, average='weighted')\n",
    "confusion2 = confusion_matrix(y_test, y_pred)"
   ]
  },
  {
   "cell_type": "code",
   "execution_count": 311,
   "id": "4a805720",
   "metadata": {},
   "outputs": [
    {
     "name": "stdout",
     "output_type": "stream",
     "text": [
      "Accuracy: 0.907667\n",
      "Precision: 0.891826\n",
      "Recall: 0.907667\n",
      "Confusion Matrix:\n",
      "[[5374   28]\n",
      " [ 526   72]]\n"
     ]
    }
   ],
   "source": [
    "print(f\"Accuracy: {accuracy2:.6f}\") #prints each one and makes it have 6 significant figures. \n",
    "print(f\"Precision: {precision2:.6f}\")\n",
    "print(f\"Recall: {recall2:.6f}\")\n",
    "print(\"Confusion Matrix:\")\n",
    "print(confusion2)"
   ]
  },
  {
   "cell_type": "code",
   "execution_count": null,
   "id": "a1f9188a",
   "metadata": {},
   "outputs": [],
   "source": [
    "#the accuracy measures the proportion of correctly predicted instances out of the total instances so in this case 90.8%\n",
    "#Precision measures the proportion of true positive predictions among all positive predictions so in this case 89.2%\n",
    "# Recall measures the proportion of true positive predictions among all actual positive instances so in this case 90.8% as well. "
   ]
  },
  {
   "cell_type": "code",
   "execution_count": null,
   "id": "5e616057",
   "metadata": {},
   "outputs": [],
   "source": [
    "#Although, it is not a great measure as the data is imbalanced. It would be better for us to do something like k fold for validation as it is better for imbalanced datasets. "
   ]
  },
  {
   "cell_type": "code",
   "execution_count": null,
   "id": "7ab14d15",
   "metadata": {},
   "outputs": [],
   "source": [
    "#This matrix represents the counts of true positive (5374), true negative (72), false positive (28), and false negative (526) predictions made by the model. It appears to be a decent model. "
   ]
  },
  {
   "cell_type": "code",
   "execution_count": 314,
   "id": "ad358e2f",
   "metadata": {},
   "outputs": [
    {
     "data": {
      "image/png": "[encoded data removed]",
      "text/plain": [
       "<Figure size 800x600 with 1 Axes>"
      ]
     },
     "metadata": {},
     "output_type": "display_data"
    }
   ],
   "source": [
    "# Get predicted probabilities for the positive class\n",
    "y_prob = model.predict_proba(X_test)[:, 1]\n",
    "\n",
    "# Calculate the ROC curve\n",
    "fpr, tpr, thresholds = roc_curve(y_test, y_prob)\n",
    "\n",
    "# Calculate the Area Under the Curve\n",
    "roc_auc = roc_auc_score(y_test, y_prob)\n",
    "\n",
    "# Plot the ROC curve\n",
    "plt.figure(figsize=(8, 6))\n",
    "plt.plot(fpr, tpr, color='darkorange', lw=2, label=f'ROC curve (AUC = {roc_auc:.2f})')\n",
    "plt.plot([0, 1], [0, 1], color='navy', lw=2, linestyle='--')\n",
    "plt.xlim([0.0, 1.0])\n",
    "plt.ylim([0.0, 1.05])\n",
    "plt.xlabel('False Positive Rate')\n",
    "plt.ylabel('True Positive Rate')\n",
    "plt.title('Receiver Operating Characteristic (ROC) Curve')\n",
    "plt.legend(loc='lower right')\n",
    "plt.show()"
   ]
  },
  {
   "cell_type": "code",
   "execution_count": null,
   "id": "bdb0fe63",
   "metadata": {},
   "outputs": [],
   "source": []
  },
  {
   "cell_type": "code",
   "execution_count": 344,
   "id": "1aa7cacf",
   "metadata": {},
   "outputs": [
    {
     "name": "stdout",
     "output_type": "stream",
     "text": [
      "                            Feature   Coefficient  Abs_Coefficient\n",
      "2                        credit_age -1.652848e-03     1.652848e-03\n",
      "4                   credit_card_age -1.182180e-03     1.182180e-03\n",
      "3           credit_age_good_account -6.441044e-04     6.441044e-04\n",
      "8     tot_amount_currently_past_due  2.593600e-04     2.593600e-04\n",
      "1                     avg_bal_cards -1.282726e-04     1.282726e-04\n",
      "10            num_card_inq_24_month  7.567977e-05     7.567977e-05\n",
      "9                  num_inq_12_month  5.015320e-05     5.015320e-05\n",
      "5    num_acc_30d_past_due_12_months  1.557293e-05     1.557293e-05\n",
      "13                    uti_open_card  1.040817e-05     1.040817e-05\n",
      "14                  pct_over_50_uti  8.004891e-06     8.004891e-06\n",
      "16             pct_card_over_50_uti  7.988303e-06     7.988303e-06\n",
      "15              uti_max_credit_line  7.843123e-06     7.843123e-06\n",
      "17                          ind_XYZ -7.353441e-06     7.353441e-06\n",
      "11                num_card_12_month  5.350773e-06     5.350773e-06\n",
      "20        rep_education_high_school  4.716871e-06     4.716871e-06\n",
      "6     num_acc_30d_past_due_6_months  3.664106e-06     3.664106e-06\n",
      "7   num_mortgage_currently_past_due  3.201161e-06     3.201161e-06\n",
      "19           rep_education_graduate -1.168756e-06     1.168756e-06\n",
      "0                       tot_balance -1.112477e-06     1.112477e-06\n",
      "18                       rep_income  8.784760e-07     8.784760e-07\n",
      "12               num_auto_ 36_month  6.378810e-07     6.378810e-07\n",
      "21              rep_education_other -3.026955e-07     3.026955e-07\n"
     ]
    }
   ],
   "source": [
    "coefficients = model.coef_[0]\n",
    "\n",
    "# Create a DataFrame to associate feature names with coefficients\n",
    "coef_df = pd.DataFrame({'Feature': X.columns, 'Coefficient': coefficients})\n",
    "\n",
    "# Calculate the absolute values of coefficients for ranking\n",
    "coef_df['Abs_Coefficient'] = abs(coef_df['Coefficient'])\n",
    "\n",
    "# Sort the DataFrame by absolute coefficient values in descending order\n",
    "coef_df = coef_df.sort_values(by='Abs_Coefficient', ascending=False)\n",
    "\n",
    "# Print the coefficients\n",
    "print(coef_df)"
   ]
  },
  {
   "cell_type": "code",
   "execution_count": null,
   "id": "53ecb5d4",
   "metadata": {},
   "outputs": [],
   "source": [
    "# It appears that the two most important features in predicting default status are credit_age and credit_card_age"
   ]
  },
  {
   "cell_type": "code",
   "execution_count": null,
   "id": "98c29564",
   "metadata": {},
   "outputs": [],
   "source": []
  },
  {
   "cell_type": "code",
   "execution_count": 323,
   "id": "f0d0d44b",
   "metadata": {},
   "outputs": [],
   "source": [
    "pp = pd.read_csv(r\"/Users/thomassniezek/Downloads/mobile_phone_prices.csv\")#r tells it to run row file path"
   ]
  },
  {
   "cell_type": "code",
   "execution_count": 324,
   "id": "6ad5bf95",
   "metadata": {},
   "outputs": [
    {
     "data": {
      "text/plain": [
       "((2000, 21),\n",
       " Index(['battery_power', 'bluetooth', 'clock_speed', 'dual_sim', 'front_camera',\n",
       "        'four_g', 'int_memory', 'mobile_depth', 'mobile_weight',\n",
       "        'number_of cores', 'pc', 'px_height', 'px_width', 'ram', 'sc_h', 'sc_w',\n",
       "        'talk_time', 'three_g', 'touch_screen', 'wifi', 'price_range'],\n",
       "       dtype='object'),\n",
       " battery_power        int64\n",
       " bluetooth            int64\n",
       " clock_speed        float64\n",
       " dual_sim             int64\n",
       " front_camera         int64\n",
       " four_g               int64\n",
       " int_memory           int64\n",
       " mobile_depth       float64\n",
       " mobile_weight        int64\n",
       " number_of cores      int64\n",
       " pc                   int64\n",
       " px_height            int64\n",
       " px_width             int64\n",
       " ram                  int64\n",
       " sc_h                 int64\n",
       " sc_w                 int64\n",
       " talk_time            int64\n",
       " three_g              int64\n",
       " touch_screen         int64\n",
       " wifi                 int64\n",
       " price_range          int64\n",
       " dtype: object)"
      ]
     },
     "execution_count": 324,
     "metadata": {},
     "output_type": "execute_result"
    }
   ],
   "source": [
    "pp.shape, pp.columns, pp.dtypes # this code tells how many columns there are, the names of the columns and the type each column is. It also says how many rows,in this case, there are 2000. 21 columns "
   ]
  },
  {
   "cell_type": "code",
   "execution_count": 325,
   "id": "68d7de2b",
   "metadata": {},
   "outputs": [
    {
     "data": {
      "text/plain": [
       "<bound method NDFrame.head of       battery_power  bluetooth  clock_speed  dual_sim  front_camera  four_g  \\\n",
       "0               842          0          2.2         0             1       0   \n",
       "1              1021          1          0.5         1             0       1   \n",
       "2               563          1          0.5         1             2       1   \n",
       "3               615          1          2.5         0             0       0   \n",
       "4              1821          1          1.2         0            13       1   \n",
       "...             ...        ...          ...       ...           ...     ...   \n",
       "1995            794          1          0.5         1             0       1   \n",
       "1996           1965          1          2.6         1             0       0   \n",
       "1997           1911          0          0.9         1             1       1   \n",
       "1998           1512          0          0.9         0             4       1   \n",
       "1999            510          1          2.0         1             5       1   \n",
       "\n",
       "      int_memory  mobile_depth  mobile_weight  number_of cores  ...  \\\n",
       "0              7           0.6            188                2  ...   \n",
       "1             53           0.7            136                3  ...   \n",
       "2             41           0.9            145                5  ...   \n",
       "3             10           0.8            131                6  ...   \n",
       "4             44           0.6            141                2  ...   \n",
       "...          ...           ...            ...              ...  ...   \n",
       "1995           2           0.8            106                6  ...   \n",
       "1996          39           0.2            187                4  ...   \n",
       "1997          36           0.7            108                8  ...   \n",
       "1998          46           0.1            145                5  ...   \n",
       "1999          45           0.9            168                6  ...   \n",
       "\n",
       "      px_height  px_width   ram  sc_h  sc_w  talk_time  three_g  touch_screen  \\\n",
       "0            20       756  2549     9     7         19        0             0   \n",
       "1           905      1988  2631    17     3          7        1             1   \n",
       "2          1263      1716  2603    11     2          9        1             1   \n",
       "3          1216      1786  2769    16     8         11        1             0   \n",
       "4          1208      1212  1411     8     2         15        1             1   \n",
       "...         ...       ...   ...   ...   ...        ...      ...           ...   \n",
       "1995       1222      1890   668    13     4         19        1             1   \n",
       "1996        915      1965  2032    11    10         16        1             1   \n",
       "1997        868      1632  3057     9     1          5        1             1   \n",
       "1998        336       670   869    18    10         19        1             1   \n",
       "1999        483       754  3919    19     4          2        1             1   \n",
       "\n",
       "      wifi  price_range  \n",
       "0        1            1  \n",
       "1        0            2  \n",
       "2        0            2  \n",
       "3        0            2  \n",
       "4        0            1  \n",
       "...    ...          ...  \n",
       "1995     0            0  \n",
       "1996     1            2  \n",
       "1997     0            3  \n",
       "1998     1            0  \n",
       "1999     1            3  \n",
       "\n",
       "[2000 rows x 21 columns]>"
      ]
     },
     "execution_count": 325,
     "metadata": {},
     "output_type": "execute_result"
    }
   ],
   "source": [
    "pp.head"
   ]
  },
  {
   "cell_type": "code",
   "execution_count": 326,
   "id": "89f85ba9",
   "metadata": {},
   "outputs": [
    {
     "data": {
      "text/plain": [
       "<bound method NDFrame.tail of       battery_power  bluetooth  clock_speed  dual_sim  front_camera  four_g  \\\n",
       "0               842          0          2.2         0             1       0   \n",
       "1              1021          1          0.5         1             0       1   \n",
       "2               563          1          0.5         1             2       1   \n",
       "3               615          1          2.5         0             0       0   \n",
       "4              1821          1          1.2         0            13       1   \n",
       "...             ...        ...          ...       ...           ...     ...   \n",
       "1995            794          1          0.5         1             0       1   \n",
       "1996           1965          1          2.6         1             0       0   \n",
       "1997           1911          0          0.9         1             1       1   \n",
       "1998           1512          0          0.9         0             4       1   \n",
       "1999            510          1          2.0         1             5       1   \n",
       "\n",
       "      int_memory  mobile_depth  mobile_weight  number_of cores  ...  \\\n",
       "0              7           0.6            188                2  ...   \n",
       "1             53           0.7            136                3  ...   \n",
       "2             41           0.9            145                5  ...   \n",
       "3             10           0.8            131                6  ...   \n",
       "4             44           0.6            141                2  ...   \n",
       "...          ...           ...            ...              ...  ...   \n",
       "1995           2           0.8            106                6  ...   \n",
       "1996          39           0.2            187                4  ...   \n",
       "1997          36           0.7            108                8  ...   \n",
       "1998          46           0.1            145                5  ...   \n",
       "1999          45           0.9            168                6  ...   \n",
       "\n",
       "      px_height  px_width   ram  sc_h  sc_w  talk_time  three_g  touch_screen  \\\n",
       "0            20       756  2549     9     7         19        0             0   \n",
       "1           905      1988  2631    17     3          7        1             1   \n",
       "2          1263      1716  2603    11     2          9        1             1   \n",
       "3          1216      1786  2769    16     8         11        1             0   \n",
       "4          1208      1212  1411     8     2         15        1             1   \n",
       "...         ...       ...   ...   ...   ...        ...      ...           ...   \n",
       "1995       1222      1890   668    13     4         19        1             1   \n",
       "1996        915      1965  2032    11    10         16        1             1   \n",
       "1997        868      1632  3057     9     1          5        1             1   \n",
       "1998        336       670   869    18    10         19        1             1   \n",
       "1999        483       754  3919    19     4          2        1             1   \n",
       "\n",
       "      wifi  price_range  \n",
       "0        1            1  \n",
       "1        0            2  \n",
       "2        0            2  \n",
       "3        0            2  \n",
       "4        0            1  \n",
       "...    ...          ...  \n",
       "1995     0            0  \n",
       "1996     1            2  \n",
       "1997     0            3  \n",
       "1998     1            0  \n",
       "1999     1            3  \n",
       "\n",
       "[2000 rows x 21 columns]>"
      ]
     },
     "execution_count": 326,
     "metadata": {},
     "output_type": "execute_result"
    }
   ],
   "source": [
    "pp.tail"
   ]
  },
  {
   "cell_type": "code",
   "execution_count": 327,
   "id": "b2620bcc",
   "metadata": {},
   "outputs": [
    {
     "data": {
      "text/plain": [
       "battery_power      0\n",
       "bluetooth          0\n",
       "clock_speed        0\n",
       "dual_sim           0\n",
       "front_camera       0\n",
       "four_g             0\n",
       "int_memory         0\n",
       "mobile_depth       0\n",
       "mobile_weight      0\n",
       "number_of cores    0\n",
       "pc                 0\n",
       "px_height          0\n",
       "px_width           0\n",
       "ram                0\n",
       "sc_h               0\n",
       "sc_w               0\n",
       "talk_time          0\n",
       "three_g            0\n",
       "touch_screen       0\n",
       "wifi               0\n",
       "price_range        0\n",
       "dtype: int64"
      ]
     },
     "execution_count": 327,
     "metadata": {},
     "output_type": "execute_result"
    }
   ],
   "source": [
    "pp.isna().sum() #Checks for null values"
   ]
  },
  {
   "cell_type": "code",
   "execution_count": 328,
   "id": "ca59307a",
   "metadata": {},
   "outputs": [
    {
     "data": {
      "application/vnd.jupyter.widget-view+json": {
       "model_id": "ddee2b8a81b84ceea92b94fd8c345477",
       "version_major": 2,
       "version_minor": 0
      },
      "text/plain": [
       "                                             |      | [  0%]   00:00 -> (? left)"
      ]
     },
     "metadata": {},
     "output_type": "display_data"
    }
   ],
   "source": [
    "my_report2 = sv.analyze(pp)"
   ]
  },
  {
   "cell_type": "code",
   "execution_count": 329,
   "id": "81a8e111",
   "metadata": {},
   "outputs": [
    {
     "name": "stdout",
     "output_type": "stream",
     "text": [
      "Report SWEETVIZ_REPORT.html was generated! NOTEBOOK/COLAB USERS: the web browser MAY not pop up, regardless, the report IS saved in your notebook/colab files.\n"
     ]
    }
   ],
   "source": [
    "my_report2.show_html()"
   ]
  },
  {
   "cell_type": "code",
   "execution_count": 330,
   "id": "597dddf8",
   "metadata": {},
   "outputs": [],
   "source": [
    "# The variables are about evenly split between the wifi, touchscreen and price range. 3G is not the moost evenly split. Front camera is left right skewed. "
   ]
  },
  {
   "cell_type": "code",
   "execution_count": 331,
   "id": "470b8f98",
   "metadata": {},
   "outputs": [
    {
     "data": {
      "text/html": [
       "<div>\n",
       "<style scoped>\n",
       "    .dataframe tbody tr th:only-of-type {\n",
       "        vertical-align: middle;\n",
       "    }\n",
       "\n",
       "    .dataframe tbody tr th {\n",
       "        vertical-align: top;\n",
       "    }\n",
       "\n",
       "    .dataframe thead th {\n",
       "        text-align: right;\n",
       "    }\n",
       "</style>\n",
       "<table border=\"1\" class=\"dataframe\">\n",
       "  <thead>\n",
       "    <tr style=\"text-align: right;\">\n",
       "      <th></th>\n",
       "      <th>battery_power</th>\n",
       "      <th>bluetooth</th>\n",
       "      <th>clock_speed</th>\n",
       "      <th>dual_sim</th>\n",
       "      <th>front_camera</th>\n",
       "      <th>four_g</th>\n",
       "      <th>int_memory</th>\n",
       "      <th>mobile_depth</th>\n",
       "      <th>mobile_weight</th>\n",
       "      <th>number_of cores</th>\n",
       "      <th>...</th>\n",
       "      <th>px_height</th>\n",
       "      <th>px_width</th>\n",
       "      <th>ram</th>\n",
       "      <th>sc_h</th>\n",
       "      <th>sc_w</th>\n",
       "      <th>talk_time</th>\n",
       "      <th>three_g</th>\n",
       "      <th>touch_screen</th>\n",
       "      <th>wifi</th>\n",
       "      <th>price_range</th>\n",
       "    </tr>\n",
       "  </thead>\n",
       "  <tbody>\n",
       "    <tr>\n",
       "      <th>count</th>\n",
       "      <td>2000.000000</td>\n",
       "      <td>2000.0000</td>\n",
       "      <td>2000.000000</td>\n",
       "      <td>2000.000000</td>\n",
       "      <td>2000.000000</td>\n",
       "      <td>2000.000000</td>\n",
       "      <td>2000.000000</td>\n",
       "      <td>2000.000000</td>\n",
       "      <td>2000.000000</td>\n",
       "      <td>2000.000000</td>\n",
       "      <td>...</td>\n",
       "      <td>2000.000000</td>\n",
       "      <td>2000.000000</td>\n",
       "      <td>2000.000000</td>\n",
       "      <td>2000.000000</td>\n",
       "      <td>2000.000000</td>\n",
       "      <td>2000.000000</td>\n",
       "      <td>2000.000000</td>\n",
       "      <td>2000.000000</td>\n",
       "      <td>2000.000000</td>\n",
       "      <td>2000.000000</td>\n",
       "    </tr>\n",
       "    <tr>\n",
       "      <th>mean</th>\n",
       "      <td>1238.518500</td>\n",
       "      <td>0.4950</td>\n",
       "      <td>1.522250</td>\n",
       "      <td>0.509500</td>\n",
       "      <td>4.309500</td>\n",
       "      <td>0.521500</td>\n",
       "      <td>32.046500</td>\n",
       "      <td>0.501750</td>\n",
       "      <td>140.249000</td>\n",
       "      <td>4.520500</td>\n",
       "      <td>...</td>\n",
       "      <td>645.108000</td>\n",
       "      <td>1251.515500</td>\n",
       "      <td>2124.213000</td>\n",
       "      <td>12.306500</td>\n",
       "      <td>5.767000</td>\n",
       "      <td>11.011000</td>\n",
       "      <td>0.761500</td>\n",
       "      <td>0.503000</td>\n",
       "      <td>0.507000</td>\n",
       "      <td>1.500000</td>\n",
       "    </tr>\n",
       "    <tr>\n",
       "      <th>std</th>\n",
       "      <td>439.418206</td>\n",
       "      <td>0.5001</td>\n",
       "      <td>0.816004</td>\n",
       "      <td>0.500035</td>\n",
       "      <td>4.341444</td>\n",
       "      <td>0.499662</td>\n",
       "      <td>18.145715</td>\n",
       "      <td>0.288416</td>\n",
       "      <td>35.399655</td>\n",
       "      <td>2.287837</td>\n",
       "      <td>...</td>\n",
       "      <td>443.780811</td>\n",
       "      <td>432.199447</td>\n",
       "      <td>1084.732044</td>\n",
       "      <td>4.213245</td>\n",
       "      <td>4.356398</td>\n",
       "      <td>5.463955</td>\n",
       "      <td>0.426273</td>\n",
       "      <td>0.500116</td>\n",
       "      <td>0.500076</td>\n",
       "      <td>1.118314</td>\n",
       "    </tr>\n",
       "    <tr>\n",
       "      <th>min</th>\n",
       "      <td>501.000000</td>\n",
       "      <td>0.0000</td>\n",
       "      <td>0.500000</td>\n",
       "      <td>0.000000</td>\n",
       "      <td>0.000000</td>\n",
       "      <td>0.000000</td>\n",
       "      <td>2.000000</td>\n",
       "      <td>0.100000</td>\n",
       "      <td>80.000000</td>\n",
       "      <td>1.000000</td>\n",
       "      <td>...</td>\n",
       "      <td>0.000000</td>\n",
       "      <td>500.000000</td>\n",
       "      <td>256.000000</td>\n",
       "      <td>5.000000</td>\n",
       "      <td>0.000000</td>\n",
       "      <td>2.000000</td>\n",
       "      <td>0.000000</td>\n",
       "      <td>0.000000</td>\n",
       "      <td>0.000000</td>\n",
       "      <td>0.000000</td>\n",
       "    </tr>\n",
       "    <tr>\n",
       "      <th>25%</th>\n",
       "      <td>851.750000</td>\n",
       "      <td>0.0000</td>\n",
       "      <td>0.700000</td>\n",
       "      <td>0.000000</td>\n",
       "      <td>1.000000</td>\n",
       "      <td>0.000000</td>\n",
       "      <td>16.000000</td>\n",
       "      <td>0.200000</td>\n",
       "      <td>109.000000</td>\n",
       "      <td>3.000000</td>\n",
       "      <td>...</td>\n",
       "      <td>282.750000</td>\n",
       "      <td>874.750000</td>\n",
       "      <td>1207.500000</td>\n",
       "      <td>9.000000</td>\n",
       "      <td>2.000000</td>\n",
       "      <td>6.000000</td>\n",
       "      <td>1.000000</td>\n",
       "      <td>0.000000</td>\n",
       "      <td>0.000000</td>\n",
       "      <td>0.750000</td>\n",
       "    </tr>\n",
       "    <tr>\n",
       "      <th>50%</th>\n",
       "      <td>1226.000000</td>\n",
       "      <td>0.0000</td>\n",
       "      <td>1.500000</td>\n",
       "      <td>1.000000</td>\n",
       "      <td>3.000000</td>\n",
       "      <td>1.000000</td>\n",
       "      <td>32.000000</td>\n",
       "      <td>0.500000</td>\n",
       "      <td>141.000000</td>\n",
       "      <td>4.000000</td>\n",
       "      <td>...</td>\n",
       "      <td>564.000000</td>\n",
       "      <td>1247.000000</td>\n",
       "      <td>2146.500000</td>\n",
       "      <td>12.000000</td>\n",
       "      <td>5.000000</td>\n",
       "      <td>11.000000</td>\n",
       "      <td>1.000000</td>\n",
       "      <td>1.000000</td>\n",
       "      <td>1.000000</td>\n",
       "      <td>1.500000</td>\n",
       "    </tr>\n",
       "    <tr>\n",
       "      <th>75%</th>\n",
       "      <td>1615.250000</td>\n",
       "      <td>1.0000</td>\n",
       "      <td>2.200000</td>\n",
       "      <td>1.000000</td>\n",
       "      <td>7.000000</td>\n",
       "      <td>1.000000</td>\n",
       "      <td>48.000000</td>\n",
       "      <td>0.800000</td>\n",
       "      <td>170.000000</td>\n",
       "      <td>7.000000</td>\n",
       "      <td>...</td>\n",
       "      <td>947.250000</td>\n",
       "      <td>1633.000000</td>\n",
       "      <td>3064.500000</td>\n",
       "      <td>16.000000</td>\n",
       "      <td>9.000000</td>\n",
       "      <td>16.000000</td>\n",
       "      <td>1.000000</td>\n",
       "      <td>1.000000</td>\n",
       "      <td>1.000000</td>\n",
       "      <td>2.250000</td>\n",
       "    </tr>\n",
       "    <tr>\n",
       "      <th>max</th>\n",
       "      <td>1998.000000</td>\n",
       "      <td>1.0000</td>\n",
       "      <td>3.000000</td>\n",
       "      <td>1.000000</td>\n",
       "      <td>19.000000</td>\n",
       "      <td>1.000000</td>\n",
       "      <td>64.000000</td>\n",
       "      <td>1.000000</td>\n",
       "      <td>200.000000</td>\n",
       "      <td>8.000000</td>\n",
       "      <td>...</td>\n",
       "      <td>1960.000000</td>\n",
       "      <td>1998.000000</td>\n",
       "      <td>3998.000000</td>\n",
       "      <td>19.000000</td>\n",
       "      <td>18.000000</td>\n",
       "      <td>20.000000</td>\n",
       "      <td>1.000000</td>\n",
       "      <td>1.000000</td>\n",
       "      <td>1.000000</td>\n",
       "      <td>3.000000</td>\n",
       "    </tr>\n",
       "  </tbody>\n",
       "</table>\n",
       "<p>8 rows × 21 columns</p>\n",
       "</div>"
      ],
      "text/plain": [
       "       battery_power  bluetooth  clock_speed     dual_sim  front_camera  \\\n",
       "count    2000.000000  2000.0000  2000.000000  2000.000000   2000.000000   \n",
       "mean     1238.518500     0.4950     1.522250     0.509500      4.309500   \n",
       "std       439.418206     0.5001     0.816004     0.500035      4.341444   \n",
       "min       501.000000     0.0000     0.500000     0.000000      0.000000   \n",
       "25%       851.750000     0.0000     0.700000     0.000000      1.000000   \n",
       "50%      1226.000000     0.0000     1.500000     1.000000      3.000000   \n",
       "75%      1615.250000     1.0000     2.200000     1.000000      7.000000   \n",
       "max      1998.000000     1.0000     3.000000     1.000000     19.000000   \n",
       "\n",
       "            four_g   int_memory  mobile_depth  mobile_weight  number_of cores  \\\n",
       "count  2000.000000  2000.000000   2000.000000    2000.000000      2000.000000   \n",
       "mean      0.521500    32.046500      0.501750     140.249000         4.520500   \n",
       "std       0.499662    18.145715      0.288416      35.399655         2.287837   \n",
       "min       0.000000     2.000000      0.100000      80.000000         1.000000   \n",
       "25%       0.000000    16.000000      0.200000     109.000000         3.000000   \n",
       "50%       1.000000    32.000000      0.500000     141.000000         4.000000   \n",
       "75%       1.000000    48.000000      0.800000     170.000000         7.000000   \n",
       "max       1.000000    64.000000      1.000000     200.000000         8.000000   \n",
       "\n",
       "       ...    px_height     px_width          ram         sc_h         sc_w  \\\n",
       "count  ...  2000.000000  2000.000000  2000.000000  2000.000000  2000.000000   \n",
       "mean   ...   645.108000  1251.515500  2124.213000    12.306500     5.767000   \n",
       "std    ...   443.780811   432.199447  1084.732044     4.213245     4.356398   \n",
       "min    ...     0.000000   500.000000   256.000000     5.000000     0.000000   \n",
       "25%    ...   282.750000   874.750000  1207.500000     9.000000     2.000000   \n",
       "50%    ...   564.000000  1247.000000  2146.500000    12.000000     5.000000   \n",
       "75%    ...   947.250000  1633.000000  3064.500000    16.000000     9.000000   \n",
       "max    ...  1960.000000  1998.000000  3998.000000    19.000000    18.000000   \n",
       "\n",
       "         talk_time      three_g  touch_screen         wifi  price_range  \n",
       "count  2000.000000  2000.000000   2000.000000  2000.000000  2000.000000  \n",
       "mean     11.011000     0.761500      0.503000     0.507000     1.500000  \n",
       "std       5.463955     0.426273      0.500116     0.500076     1.118314  \n",
       "min       2.000000     0.000000      0.000000     0.000000     0.000000  \n",
       "25%       6.000000     1.000000      0.000000     0.000000     0.750000  \n",
       "50%      11.000000     1.000000      1.000000     1.000000     1.500000  \n",
       "75%      16.000000     1.000000      1.000000     1.000000     2.250000  \n",
       "max      20.000000     1.000000      1.000000     1.000000     3.000000  \n",
       "\n",
       "[8 rows x 21 columns]"
      ]
     },
     "execution_count": 331,
     "metadata": {},
     "output_type": "execute_result"
    }
   ],
   "source": [
    "pp.describe() #This returns the summary like statistics including the count, mean, standard deviation min and values at 25%, 50%, 75% and the max value"
   ]
  },
  {
   "cell_type": "code",
   "execution_count": 332,
   "id": "d89f74c8",
   "metadata": {},
   "outputs": [],
   "source": [
    "y2 = pp['price_range'] #sets the y as median house value"
   ]
  },
  {
   "cell_type": "code",
   "execution_count": 333,
   "id": "7e62270d",
   "metadata": {},
   "outputs": [],
   "source": [
    "X2= pp.loc[:, pp.columns != 'price_range'] #Says that I want all of the values except for price_range\n"
   ]
  },
  {
   "cell_type": "code",
   "execution_count": 334,
   "id": "6eea6d27",
   "metadata": {},
   "outputs": [],
   "source": [
    "X2_train, X2_test, y2_train, y2_test = train_test_split(X2, y2, test_size=0.3, random_state=6)"
   ]
  },
  {
   "cell_type": "code",
   "execution_count": 335,
   "id": "5c065700",
   "metadata": {},
   "outputs": [],
   "source": [
    "model2 = LinearDiscriminantAnalysis() #creates the LDA class"
   ]
  },
  {
   "cell_type": "code",
   "execution_count": 336,
   "id": "f97380f0",
   "metadata": {},
   "outputs": [
    {
     "data": {
      "text/html": [
       "<style>#sk-container-id-7 {color: black;}#sk-container-id-7 pre{padding: 0;}#sk-container-id-7 div.sk-toggleable {background-color: white;}#sk-container-id-7 label.sk-toggleable__label {cursor: pointer;display: block;width: 100%;margin-bottom: 0;padding: 0.3em;box-sizing: border-box;text-align: center;}#sk-container-id-7 label.sk-toggleable__label-arrow:before {content: \"▸\";float: left;margin-right: 0.25em;color: #696969;}#sk-container-id-7 label.sk-toggleable__label-arrow:hover:before {color: black;}#sk-container-id-7 div.sk-estimator:hover label.sk-toggleable__label-arrow:before {color: black;}#sk-container-id-7 div.sk-toggleable__content {max-height: 0;max-width: 0;overflow: hidden;text-align: left;background-color: #f0f8ff;}#sk-container-id-7 div.sk-toggleable__content pre {margin: 0.2em;color: black;border-radius: 0.25em;background-color: #f0f8ff;}#sk-container-id-7 input.sk-toggleable__control:checked~div.sk-toggleable__content {max-height: 200px;max-width: 100%;overflow: auto;}#sk-container-id-7 input.sk-toggleable__control:checked~label.sk-toggleable__label-arrow:before {content: \"▾\";}#sk-container-id-7 div.sk-estimator input.sk-toggleable__control:checked~label.sk-toggleable__label {background-color: #d4ebff;}#sk-container-id-7 div.sk-label input.sk-toggleable__control:checked~label.sk-toggleable__label {background-color: #d4ebff;}#sk-container-id-7 input.sk-hidden--visually {border: 0;clip: rect(1px 1px 1px 1px);clip: rect(1px, 1px, 1px, 1px);height: 1px;margin: -1px;overflow: hidden;padding: 0;position: absolute;width: 1px;}#sk-container-id-7 div.sk-estimator {font-family: monospace;background-color: #f0f8ff;border: 1px dotted black;border-radius: 0.25em;box-sizing: border-box;margin-bottom: 0.5em;}#sk-container-id-7 div.sk-estimator:hover {background-color: #d4ebff;}#sk-container-id-7 div.sk-parallel-item::after {content: \"\";width: 100%;border-bottom: 1px solid gray;flex-grow: 1;}#sk-container-id-7 div.sk-label:hover label.sk-toggleable__label {background-color: #d4ebff;}#sk-container-id-7 div.sk-serial::before {content: \"\";position: absolute;border-left: 1px solid gray;box-sizing: border-box;top: 0;bottom: 0;left: 50%;z-index: 0;}#sk-container-id-7 div.sk-serial {display: flex;flex-direction: column;align-items: center;background-color: white;padding-right: 0.2em;padding-left: 0.2em;position: relative;}#sk-container-id-7 div.sk-item {position: relative;z-index: 1;}#sk-container-id-7 div.sk-parallel {display: flex;align-items: stretch;justify-content: center;background-color: white;position: relative;}#sk-container-id-7 div.sk-item::before, #sk-container-id-7 div.sk-parallel-item::before {content: \"\";position: absolute;border-left: 1px solid gray;box-sizing: border-box;top: 0;bottom: 0;left: 50%;z-index: -1;}#sk-container-id-7 div.sk-parallel-item {display: flex;flex-direction: column;z-index: 1;position: relative;background-color: white;}#sk-container-id-7 div.sk-parallel-item:first-child::after {align-self: flex-end;width: 50%;}#sk-container-id-7 div.sk-parallel-item:last-child::after {align-self: flex-start;width: 50%;}#sk-container-id-7 div.sk-parallel-item:only-child::after {width: 0;}#sk-container-id-7 div.sk-dashed-wrapped {border: 1px dashed gray;margin: 0 0.4em 0.5em 0.4em;box-sizing: border-box;padding-bottom: 0.4em;background-color: white;}#sk-container-id-7 div.sk-label label {font-family: monospace;font-weight: bold;display: inline-block;line-height: 1.2em;}#sk-container-id-7 div.sk-label-container {text-align: center;}#sk-container-id-7 div.sk-container {/* jupyter's `normalize.less` sets `[hidden] { display: none; }` but bootstrap.min.css set `[hidden] { display: none !important; }` so we also need the `!important` here to be able to override the default hidden behavior on the sphinx rendered scikit-learn.org. See: https://github.com/scikit-learn/scikit-learn/issues/21755 */display: inline-block !important;position: relative;}#sk-container-id-7 div.sk-text-repr-fallback {display: none;}</style><div id=\"sk-container-id-7\" class=\"sk-top-container\"><div class=\"sk-text-repr-fallback\"><pre>LinearDiscriminantAnalysis()</pre><b>In a Jupyter environment, please rerun this cell to show the HTML representation or trust the notebook. <br />On GitHub, the HTML representation is unable to render, please try loading this page with nbviewer.org.</b></div><div class=\"sk-container\" hidden><div class=\"sk-item\"><div class=\"sk-estimator sk-toggleable\"><input class=\"sk-toggleable__control sk-hidden--visually\" id=\"sk-estimator-id-7\" type=\"checkbox\" checked><label for=\"sk-estimator-id-7\" class=\"sk-toggleable__label sk-toggleable__label-arrow\">LinearDiscriminantAnalysis</label><div class=\"sk-toggleable__content\"><pre>LinearDiscriminantAnalysis()</pre></div></div></div></div></div>"
      ],
      "text/plain": [
       "LinearDiscriminantAnalysis()"
      ]
     },
     "execution_count": 336,
     "metadata": {},
     "output_type": "execute_result"
    }
   ],
   "source": [
    "model2.fit(X2_train, y2_train)"
   ]
  },
  {
   "cell_type": "code",
   "execution_count": 337,
   "id": "796dec7f",
   "metadata": {},
   "outputs": [],
   "source": [
    "y2_pred = model2.predict(X2_test)"
   ]
  },
  {
   "cell_type": "code",
   "execution_count": 338,
   "id": "765162e7",
   "metadata": {},
   "outputs": [
    {
     "data": {
      "text/plain": [
       "array([[-7.75766146e-03,  6.52690991e-02,  2.77654797e-01,\n",
       "         4.45918636e-01, -7.63152357e-03,  7.32492376e-02,\n",
       "        -6.96676951e-03,  3.96827441e-01,  1.45700204e-02,\n",
       "         4.51046559e-02, -1.85993645e-02, -4.17913066e-03,\n",
       "        -4.12132753e-03, -1.41115929e-02, -2.03568473e-02,\n",
       "         2.42540827e-02, -3.97520133e-02, -5.05274384e-01,\n",
       "        -3.34917855e-02,  3.69300144e-01],\n",
       "       [-2.23921799e-03,  4.39302091e-02, -7.52362326e-03,\n",
       "         1.10597035e-01,  7.93850412e-03,  8.78810785e-02,\n",
       "         9.24261914e-04,  2.99338291e-01,  3.84217977e-03,\n",
       "        -3.50970343e-02, -1.39969451e-02, -1.05426539e-03,\n",
       "        -1.12904758e-03, -4.47591560e-03, -1.58899579e-02,\n",
       "        -2.04629527e-03,  2.48586580e-04, -2.24598070e-01,\n",
       "         6.05678878e-02,  8.89844718e-02],\n",
       "       [ 2.04787669e-03, -6.41119395e-02, -6.69803212e-02,\n",
       "        -1.86986589e-01,  1.74468366e-02, -1.35209040e-01,\n",
       "        -2.19348232e-03, -2.20715233e-01, -1.43920924e-03,\n",
       "         1.63182301e-02,  1.85802849e-03,  1.08390315e-03,\n",
       "         1.06820477e-03,  4.31942148e-03, -1.38813091e-02,\n",
       "        -1.14623306e-02,  1.03108148e-02,  2.33110914e-01,\n",
       "        -1.55134175e-01, -1.58780684e-01],\n",
       "       [ 8.06498316e-03, -4.51338906e-02, -2.10548859e-01,\n",
       "        -3.76866707e-01, -1.72641183e-02, -2.45446064e-02,\n",
       "         8.44885695e-03, -4.74538958e-01, -1.72042782e-02,\n",
       "        -2.87822715e-02,  3.06967824e-02,  4.21760323e-03,\n",
       "         4.24602882e-03,  1.44641481e-02,  5.00615678e-02,\n",
       "        -1.14431451e-02,  3.02211012e-02,  5.01398846e-01,\n",
       "         1.31160091e-01, -3.05677445e-01]])"
      ]
     },
     "execution_count": 338,
     "metadata": {},
     "output_type": "execute_result"
    }
   ],
   "source": [
    "model2.coef_ #coefficient for each column"
   ]
  },
  {
   "cell_type": "code",
   "execution_count": 339,
   "id": "98018e99",
   "metadata": {},
   "outputs": [
    {
     "data": {
      "text/plain": [
       "1    0.25\n",
       "2    0.25\n",
       "3    0.25\n",
       "0    0.25\n",
       "Name: price_range, dtype: float64"
      ]
     },
     "execution_count": 339,
     "metadata": {},
     "output_type": "execute_result"
    }
   ],
   "source": [
    "pp['price_range'].value_counts(normalize=True) #shows the y is balanced. "
   ]
  },
  {
   "cell_type": "code",
   "execution_count": 340,
   "id": "cf51e1c6",
   "metadata": {},
   "outputs": [],
   "source": [
    "accuracy = accuracy_score(y2_test, y2_pred)\n",
    "precision = precision_score(y2_test, y2_pred, average='weighted')  # chose weighted becasue it calculates metrics for each class and takes the mean with class weights based on support.\n",
    "recall = recall_score(y2_test, y2_pred, average='weighted')\n",
    "confusion = confusion_matrix(y2_test, y2_pred)"
   ]
  },
  {
   "cell_type": "code",
   "execution_count": 341,
   "id": "da9a64c3",
   "metadata": {},
   "outputs": [
    {
     "name": "stdout",
     "output_type": "stream",
     "text": [
      "Accuracy: 0.938333\n",
      "Precision: 0.940363\n",
      "Recall: 0.938333\n",
      "Confusion Matrix:\n",
      "[[137   3   0   0]\n",
      " [  3 151   8   0]\n",
      " [  0  10 138   1]\n",
      " [  0   0  12 137]]\n"
     ]
    }
   ],
   "source": [
    "print(f\"Accuracy: {accuracy:.6f}\") #prints each one and makes it have 6 significant figures. \n",
    "print(f\"Precision: {precision:.6f}\")\n",
    "print(f\"Recall: {recall:.6f}\")\n",
    "print(\"Confusion Matrix:\")\n",
    "print(confusion)"
   ]
  },
  {
   "cell_type": "code",
   "execution_count": 342,
   "id": "53c85fab",
   "metadata": {},
   "outputs": [],
   "source": [
    "# Accuracy measures the proportion of correctly predicted instances out of the total instances so in this case 94%\n",
    "#Precision measures the proportion of true positive predictions among all positive predictions so in this case 94%\n",
    "# Recall measures the proportion of true positive predictions among all actual positive instances so in this case 94% as well. "
   ]
  },
  {
   "cell_type": "code",
   "execution_count": 343,
   "id": "c1ba88f8",
   "metadata": {},
   "outputs": [],
   "source": [
    "#the diagonals represents how many were correctly predicted by the model.\n",
    "#These are all high values compared to the not correctly predicted. \n",
    "# The one that strayed the most was the model predicted 12 as '3' instead of '4'\n",
    "#This along with the high precision and accuracy makes it a decent model"
   ]
  },
  {
   "cell_type": "code",
   "execution_count": null,
   "id": "4f33d5ad",
   "metadata": {},
   "outputs": [],
   "source": []
  }
 ],
 "metadata": {
  "kernelspec": {
   "display_name": "Python 3 (ipykernel)",
   "language": "python",
   "name": "python3"
  },
  "language_info": {
   "codemirror_mode": {
    "name": "ipython",
    "version": 3
   },
   "file_extension": ".py",
   "mimetype": "text/x-python",
   "name": "python",
   "nbconvert_exporter": "python",
   "pygments_lexer": "ipython3",
   "version": "3.11.4"
  }
 },
 "nbformat": 4,
 "nbformat_minor": 5
}
