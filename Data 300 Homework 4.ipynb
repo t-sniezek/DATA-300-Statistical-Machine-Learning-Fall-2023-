{
 "cells": [
  {
   "cell_type": "markdown",
   "id": "ac13674c",
   "metadata": {},
   "source": [
    "#### 20/20.Good job Tom"
   ]
  },
  {
   "cell_type": "code",
   "execution_count": 1,
   "id": "a2232706-2403-4c4d-8197-e04fc59f004e",
   "metadata": {
    "tags": []
   },
   "outputs": [],
   "source": [
    "#python version 3.11.4  conda version 23.7.3"
   ]
  },
  {
   "cell_type": "code",
   "execution_count": 2,
   "id": "2fd759d3-77bf-4e3a-9f19-3f28ba2e3e28",
   "metadata": {
    "tags": []
   },
   "outputs": [],
   "source": [
    "import pandas as pd # v 1.5.3\n",
    "import numpy as np # v 1.26.1\n",
    "import sklearn # v 0.0.3\n",
    "import pmdarima as pm # v 2.0.3\n",
    "import statsmodels.api as sm # v 0.14.0\n",
    "import matplotlib.pyplot as plt # 3.7.1\n",
    "import sweetviz as sv # 2.2.1\n",
    "import pytest_warnings as ww #v 0.3.1\n",
    "import warnings as w\n",
    "import statsmodels.tsa.stattools as stattools  # v 0.14.0\n",
    "import matplotlib.pyplot as plt # 3.7.1\n",
    "\n",
    "\n",
    "from imblearn.over_sampling import SMOTE\n",
    "\n",
    "from sklearn.linear_model import LogisticRegression\n",
    "from sklearn.model_selection import train_test_split\n",
    "\n",
    "from statsmodels.tsa.stattools import adfuller # v 0.14.0\n",
    "from statsmodels.graphics.tsaplots import plot_acf, plot_pacf # v 0.14.0\n",
    "from statsmodels.tsa.arima_model import ARIMA # v 0.14.0\n",
    "\n",
    "from sklearn.metrics import mean_absolute_error\n",
    "from sklearn.metrics import mean_squared_error\n",
    "from sklearn.metrics import mean_absolute_percentage_error\n",
    "from sklearn.metrics import accuracy_score, precision_score, recall_score, confusion_matrix\n",
    "from sklearn.metrics import roc_curve, roc_auc_score\n",
    "\n",
    "\n",
    "from sklearn.impute import SimpleImputer\n",
    "from sklearn.preprocessing import LabelEncoder\n",
    "from sklearn.preprocessing import OneHotEncoder\n",
    "from sklearn.discriminant_analysis import LinearDiscriminantAnalysis\n",
    "\n",
    "\n",
    "from sklearn.model_selection import KFold"
   ]
  },
  {
   "cell_type": "code",
   "execution_count": 3,
   "id": "2c28d553-5e66-4184-bdb4-c4e78298c009",
   "metadata": {
    "tags": []
   },
   "outputs": [],
   "source": [
    "ld = pd.read_csv(r\"/Users/thomassniezek/Downloads/loan_default_data_set.csv\")#r tells it to run row file path"
   ]
  },
  {
   "cell_type": "code",
   "execution_count": 4,
   "id": "adfb4727-19e9-4d9f-8710-81a740cae07d",
   "metadata": {
    "tags": []
   },
   "outputs": [
    {
     "data": {
      "text/plain": [
       "((20000, 21),\n",
       " Index(['tot_balance', 'avg_bal_cards', 'credit_age', 'credit_age_good_account',\n",
       "        'credit_card_age', 'num_acc_30d_past_due_12_months',\n",
       "        'num_acc_30d_past_due_6_months', 'num_mortgage_currently_past_due',\n",
       "        'tot_amount_currently_past_due', 'num_inq_12_month',\n",
       "        'num_card_inq_24_month', 'num_card_12_month', 'num_auto_ 36_month',\n",
       "        'uti_open_card', 'pct_over_50_uti', 'uti_max_credit_line',\n",
       "        'pct_card_over_50_uti', 'ind_XYZ', 'rep_income', 'rep_education',\n",
       "        'Def_ind'],\n",
       "       dtype='object'),\n",
       " tot_balance                        float64\n",
       " avg_bal_cards                      float64\n",
       " credit_age                           int64\n",
       " credit_age_good_account              int64\n",
       " credit_card_age                      int64\n",
       " num_acc_30d_past_due_12_months       int64\n",
       " num_acc_30d_past_due_6_months        int64\n",
       " num_mortgage_currently_past_due      int64\n",
       " tot_amount_currently_past_due      float64\n",
       " num_inq_12_month                     int64\n",
       " num_card_inq_24_month                int64\n",
       " num_card_12_month                    int64\n",
       " num_auto_ 36_month                   int64\n",
       " uti_open_card                      float64\n",
       " pct_over_50_uti                    float64\n",
       " uti_max_credit_line                float64\n",
       " pct_card_over_50_uti               float64\n",
       " ind_XYZ                              int64\n",
       " rep_income                         float64\n",
       " rep_education                       object\n",
       " Def_ind                              int64\n",
       " dtype: object)"
      ]
     },
     "execution_count": 4,
     "metadata": {},
     "output_type": "execute_result"
    }
   ],
   "source": [
    "ld.shape, ld.columns, ld.dtypes # this code tells how many columns there are, the names of the columns and the type each column is. It also says how many rows,in this case, there are 20000. 21 columns "
   ]
  },
  {
   "cell_type": "code",
   "execution_count": 5,
   "id": "0c431333-eebe-48df-b2b4-a125ab4f54a8",
   "metadata": {
    "tags": []
   },
   "outputs": [
    {
     "data": {
      "text/plain": [
       "0    0.9\n",
       "1    0.1\n",
       "Name: Def_ind, dtype: float64"
      ]
     },
     "execution_count": 5,
     "metadata": {},
     "output_type": "execute_result"
    }
   ],
   "source": [
    "ld['Def_ind'].value_counts(normalize=True) #shows the y is not balanced. one is .9 and the other is .1\n"
   ]
  },
  {
   "cell_type": "code",
   "execution_count": 6,
   "id": "85dae447-2693-436e-9bd4-2418a77da58d",
   "metadata": {
    "tags": []
   },
   "outputs": [],
   "source": [
    "mean_rep_income = ld['rep_income'].mean()\n",
    "mean_pct_card_over_50 = ld['pct_card_over_50_uti'].mean()\n",
    "mode_rep_education = ld['rep_education'].mode().iloc[0]\n",
    "\n",
    "# finds the mode and mean for the variables and assigns it to its own variable"
   ]
  },
  {
   "cell_type": "code",
   "execution_count": 7,
   "id": "2aeba963-ce4e-4766-af59-a5b91577e8cb",
   "metadata": {
    "tags": []
   },
   "outputs": [],
   "source": [
    "# Fill missing values in the specified columns with their respective means\n",
    "ld['rep_income'].fillna(mean_rep_income, inplace=True)\n",
    "ld['pct_card_over_50_uti'].fillna(mean_pct_card_over_50, inplace=True)\n",
    "ld['rep_education'].fillna(mode_rep_education, inplace=True)\n",
    "#fills all of the none values with the variables we just created in the code before. "
   ]
  },
  {
   "cell_type": "code",
   "execution_count": 8,
   "id": "40a65d15-b6a3-4c43-8321-3f43ea6ede17",
   "metadata": {
    "tags": []
   },
   "outputs": [
    {
     "data": {
      "application/vnd.jupyter.widget-view+json": {
       "model_id": "23f4821ec3654f72a2b9fc305a929064",
       "version_major": 2,
       "version_minor": 0
      },
      "text/plain": [
       "                                             |          | [  0%]   00:00 -> (? left)"
      ]
     },
     "metadata": {},
     "output_type": "display_data"
    }
   ],
   "source": [
    "my_report = sv.analyze(ld)"
   ]
  },
  {
   "cell_type": "code",
   "execution_count": 9,
   "id": "7802f949-ea16-4eaa-b768-72c6d986f5ce",
   "metadata": {
    "tags": []
   },
   "outputs": [
    {
     "name": "stdout",
     "output_type": "stream",
     "text": [
      "Report SWEETVIZ_REPORT.html was generated! NOTEBOOK/COLAB USERS: the web browser MAY not pop up, regardless, the report IS saved in your notebook/colab files.\n"
     ]
    }
   ],
   "source": [
    "my_report.show_html() #you can see there are no zero variables left "
   ]
  },
  {
   "cell_type": "code",
   "execution_count": 10,
   "id": "cd303cbc-d82c-49be-848c-c82bf0331057",
   "metadata": {
    "tags": []
   },
   "outputs": [],
   "source": [
    "encoder = OneHotEncoder(sparse_output=False, drop='first')  # Use drop='first' to avoid multicollinearity\n",
    "string_encoded = encoder.fit_transform(ld[['rep_education']]) # used to create a binary variable for our categorical variable, in this case rep_education\n",
    "feature_names = encoder.get_feature_names_out(input_features=['rep_education']) # makes the names for the columns the same as the original\n",
    "string_encoded_ld = pd.DataFrame(string_encoded, columns=feature_names) #creates a data frame from the data\n",
    "ld = pd.concat([ld, string_encoded_ld], axis=1) # puts the two data frames together. \n",
    "X = ld.drop(['rep_education', 'Def_ind'], axis=1)  # Exclude the original string column\n",
    "y = ld['Def_ind']  # sets the y value"
   ]
  },
  {
   "cell_type": "code",
   "execution_count": 11,
   "id": "f92e57ad-4387-4b32-ae82-56740a9a23b9",
   "metadata": {
    "tags": []
   },
   "outputs": [
    {
     "data": {
      "text/plain": [
       "0    0.9\n",
       "1    0.1\n",
       "Name: Def_ind, dtype: float64"
      ]
     },
     "execution_count": 11,
     "metadata": {},
     "output_type": "execute_result"
    }
   ],
   "source": [
    "ld['Def_ind'].value_counts(normalize=True)"
   ]
  },
  {
   "cell_type": "code",
   "execution_count": 12,
   "id": "7e12ec7b-b60c-4c99-adb1-7cedcb491825",
   "metadata": {
    "tags": []
   },
   "outputs": [],
   "source": [
    "minorityclass_1_data = ld[ld['Def_ind'] == 1] #seperates classes into subdatasets with class ==1 and class==0\n",
    "majorityclass_0_data = ld[ld['Def_ind'] == 0]\n"
   ]
  },
  {
   "cell_type": "code",
   "execution_count": 13,
   "id": "fddf2185-c07b-415a-a3d7-f679b5a34bbc",
   "metadata": {
    "tags": []
   },
   "outputs": [
    {
     "data": {
      "text/plain": [
       "(2000, 24)"
      ]
     },
     "execution_count": 13,
     "metadata": {},
     "output_type": "execute_result"
    }
   ],
   "source": [
    "minorityclass_1_data.shape #tells how many rows and columns 2000 data points\n"
   ]
  },
  {
   "cell_type": "code",
   "execution_count": 14,
   "id": "39e3e579-5a92-4f6b-a262-2d9b95b9092f",
   "metadata": {
    "tags": []
   },
   "outputs": [
    {
     "data": {
      "text/plain": [
       "(18000, 24)"
      ]
     },
     "execution_count": 14,
     "metadata": {},
     "output_type": "execute_result"
    }
   ],
   "source": [
    "majorityclass_0_data.shape #18000 data points"
   ]
  },
  {
   "cell_type": "code",
   "execution_count": 15,
   "id": "d5777dbb-fc88-4368-95db-039c05f162c7",
   "metadata": {
    "tags": []
   },
   "outputs": [],
   "source": [
    "desired_minority_samples = 18000 #says i want 18,000 data points in the minority"
   ]
  },
  {
   "cell_type": "code",
   "execution_count": 16,
   "id": "f7a26406-bf2f-45b4-8489-cf7374772ea2",
   "metadata": {
    "tags": []
   },
   "outputs": [],
   "source": [
    "num_repeats = desired_minority_samples // len(minorityclass_1_data) #says the number of times I want to do the  resampling technique\n",
    "remainder_samples = desired_minority_samples % len(minorityclass_1_data)"
   ]
  },
  {
   "cell_type": "code",
   "execution_count": 17,
   "id": "4f69af48-b00d-4d35-917a-3f1d19fc178b",
   "metadata": {
    "tags": []
   },
   "outputs": [],
   "source": [
    "resampled_minority_data = [minorityclass_1_data] * num_repeats #says how many times you want to repeat the existing minority class data to achieve the desired number of samples. Replicates the existing minority class data num_repeats times. \n",
    "if remainder_samples > 0:\n",
    "    resampled_minority_data.append(minority_class.sample(remainder_samples, replace=True)) #True makes it to sample with replacement"
   ]
  },
  {
   "cell_type": "code",
   "execution_count": 18,
   "id": "0f3b9482-d0e8-43a7-bd7b-98bec085a865",
   "metadata": {
    "tags": []
   },
   "outputs": [],
   "source": [
    "oversampled_ld = pd.concat([majorityclass_0_data] + resampled_minority_data) #Concatenates the data sets"
   ]
  },
  {
   "cell_type": "code",
   "execution_count": 19,
   "id": "ba171362-63d0-456e-bb2e-6147d169b541",
   "metadata": {
    "tags": []
   },
   "outputs": [
    {
     "data": {
      "text/plain": [
       "(36000, 24)"
      ]
     },
     "execution_count": 19,
     "metadata": {},
     "output_type": "execute_result"
    }
   ],
   "source": [
    "oversampled_ld.shape #shows there are 36000 values. "
   ]
  },
  {
   "cell_type": "code",
   "execution_count": 20,
   "id": "36d5880e-0c59-4d00-93b0-28ffa15e126f",
   "metadata": {
    "tags": []
   },
   "outputs": [
    {
     "data": {
      "text/plain": [
       "0    0.5\n",
       "1    0.5\n",
       "Name: Def_ind, dtype: float64"
      ]
     },
     "execution_count": 20,
     "metadata": {},
     "output_type": "execute_result"
    }
   ],
   "source": [
    "oversampled_ld['Def_ind'].value_counts(normalize=True) #shows the y is balanced. both are now at .5 \n"
   ]
  },
  {
   "cell_type": "code",
   "execution_count": 21,
   "id": "1c219ea2-98c9-4441-90de-b7c4385a4b47",
   "metadata": {
    "tags": []
   },
   "outputs": [],
   "source": [
    "desired_majority_samples = 2000\n",
    "undersampled_majority = majorityclass_0_data.sample(desired_majority_samples, random_state=6)# Randomly sample the majority class to achieve the desired number\n",
    "\n",
    "undersampled_ld = pd.concat([minorityclass_1_data, undersampled_majority])# Concatenate the undersampled majority class data with the minority class\n"
   ]
  },
  {
   "cell_type": "code",
   "execution_count": 22,
   "id": "d39b2ace-3f43-4efb-8d7b-549e24b83c80",
   "metadata": {
    "tags": []
   },
   "outputs": [
    {
     "data": {
      "text/plain": [
       "(4000, 24)"
      ]
     },
     "execution_count": 22,
     "metadata": {},
     "output_type": "execute_result"
    }
   ],
   "source": [
    "undersampled_ld.shape #shows there are 4000 values. "
   ]
  },
  {
   "cell_type": "code",
   "execution_count": 23,
   "id": "43687945-054b-4a5f-905b-49cf4f681111",
   "metadata": {
    "tags": []
   },
   "outputs": [
    {
     "data": {
      "text/plain": [
       "Index(['tot_balance', 'avg_bal_cards', 'credit_age', 'credit_age_good_account',\n",
       "       'credit_card_age', 'num_acc_30d_past_due_12_months',\n",
       "       'num_acc_30d_past_due_6_months', 'num_mortgage_currently_past_due',\n",
       "       'tot_amount_currently_past_due', 'num_inq_12_month',\n",
       "       'num_card_inq_24_month', 'num_card_12_month', 'num_auto_ 36_month',\n",
       "       'uti_open_card', 'pct_over_50_uti', 'uti_max_credit_line',\n",
       "       'pct_card_over_50_uti', 'ind_XYZ', 'rep_income', 'rep_education',\n",
       "       'Def_ind', 'rep_education_graduate', 'rep_education_high_school',\n",
       "       'rep_education_other'],\n",
       "      dtype='object')"
      ]
     },
     "execution_count": 23,
     "metadata": {},
     "output_type": "execute_result"
    }
   ],
   "source": [
    "undersampled_ld.columns"
   ]
  },
  {
   "cell_type": "code",
   "execution_count": 24,
   "id": "3db0978b-d21a-460e-8a37-b0926a91800f",
   "metadata": {
    "tags": []
   },
   "outputs": [
    {
     "data": {
      "text/plain": [
       "1    0.5\n",
       "0    0.5\n",
       "Name: Def_ind, dtype: float64"
      ]
     },
     "execution_count": 24,
     "metadata": {},
     "output_type": "execute_result"
    }
   ],
   "source": [
    "undersampled_ld['Def_ind'].value_counts(normalize=True) #shows the y is balanced. both are now at .5 "
   ]
  },
  {
   "cell_type": "code",
   "execution_count": 25,
   "id": "3802f134-589f-47da-a12e-0860e185e503",
   "metadata": {
    "tags": []
   },
   "outputs": [
    {
     "data": {
      "text/plain": [
       "tot_balance                        float64\n",
       "avg_bal_cards                      float64\n",
       "credit_age                           int64\n",
       "credit_age_good_account              int64\n",
       "credit_card_age                      int64\n",
       "num_acc_30d_past_due_12_months       int64\n",
       "num_acc_30d_past_due_6_months        int64\n",
       "num_mortgage_currently_past_due      int64\n",
       "tot_amount_currently_past_due      float64\n",
       "num_inq_12_month                     int64\n",
       "num_card_inq_24_month                int64\n",
       "num_card_12_month                    int64\n",
       "num_auto_ 36_month                   int64\n",
       "uti_open_card                      float64\n",
       "pct_over_50_uti                    float64\n",
       "uti_max_credit_line                float64\n",
       "pct_card_over_50_uti               float64\n",
       "ind_XYZ                              int64\n",
       "rep_income                         float64\n",
       "rep_education                       object\n",
       "Def_ind                              int64\n",
       "rep_education_graduate             float64\n",
       "rep_education_high_school          float64\n",
       "rep_education_other                float64\n",
       "dtype: object"
      ]
     },
     "execution_count": 25,
     "metadata": {},
     "output_type": "execute_result"
    }
   ],
   "source": [
    "undersampled_ld.dtypes"
   ]
  },
  {
   "cell_type": "code",
   "execution_count": 26,
   "id": "d2579e75-bd10-41f5-9920-36da15e98e1f",
   "metadata": {
    "tags": []
   },
   "outputs": [],
   "source": [
    "# Initialize the SMOTE with a desired sampling strategy, such as 'auto' to balance classes\n",
    "smote = SMOTE(sampling_strategy='auto', random_state=42)  # Use 'auto' to balance classes\n",
    "\n",
    "# Perform SMOTE oversampling\n",
    "X_resampled, y_resampled = smote.fit_resample(X, y)\n",
    "\n",
    "# Create a new DataFrame for the oversampled smote data\n",
    "smoteoversampled_ld = pd.DataFrame(X_resampled, columns=X.columns)\n",
    "smoteoversampled_ld['Def_ind'] = y_resampled"
   ]
  },
  {
   "cell_type": "code",
   "execution_count": 27,
   "id": "a37fb14e-1ed9-4e87-9d1b-abc9a186fd3d",
   "metadata": {
    "tags": []
   },
   "outputs": [
    {
     "data": {
      "text/plain": [
       "0    0.5\n",
       "1    0.5\n",
       "Name: Def_ind, dtype: float64"
      ]
     },
     "execution_count": 27,
     "metadata": {},
     "output_type": "execute_result"
    }
   ],
   "source": [
    "smoteoversampled_ld['Def_ind'].value_counts(normalize=True) #shows the y is balanced. both are now at .5 "
   ]
  },
  {
   "cell_type": "code",
   "execution_count": 28,
   "id": "110695f9-31aa-4049-8c3a-30786ca4bc51",
   "metadata": {
    "tags": []
   },
   "outputs": [
    {
     "data": {
      "text/plain": [
       "((36000, 23),\n",
       " Index(['tot_balance', 'avg_bal_cards', 'credit_age', 'credit_age_good_account',\n",
       "        'credit_card_age', 'num_acc_30d_past_due_12_months',\n",
       "        'num_acc_30d_past_due_6_months', 'num_mortgage_currently_past_due',\n",
       "        'tot_amount_currently_past_due', 'num_inq_12_month',\n",
       "        'num_card_inq_24_month', 'num_card_12_month', 'num_auto_ 36_month',\n",
       "        'uti_open_card', 'pct_over_50_uti', 'uti_max_credit_line',\n",
       "        'pct_card_over_50_uti', 'ind_XYZ', 'rep_income',\n",
       "        'rep_education_graduate', 'rep_education_high_school',\n",
       "        'rep_education_other', 'Def_ind'],\n",
       "       dtype='object'),\n",
       " tot_balance                        float64\n",
       " avg_bal_cards                      float64\n",
       " credit_age                           int64\n",
       " credit_age_good_account              int64\n",
       " credit_card_age                      int64\n",
       " num_acc_30d_past_due_12_months       int64\n",
       " num_acc_30d_past_due_6_months        int64\n",
       " num_mortgage_currently_past_due      int64\n",
       " tot_amount_currently_past_due      float64\n",
       " num_inq_12_month                     int64\n",
       " num_card_inq_24_month                int64\n",
       " num_card_12_month                    int64\n",
       " num_auto_ 36_month                   int64\n",
       " uti_open_card                      float64\n",
       " pct_over_50_uti                    float64\n",
       " uti_max_credit_line                float64\n",
       " pct_card_over_50_uti               float64\n",
       " ind_XYZ                              int64\n",
       " rep_income                         float64\n",
       " rep_education_graduate             float64\n",
       " rep_education_high_school          float64\n",
       " rep_education_other                float64\n",
       " Def_ind                              int64\n",
       " dtype: object)"
      ]
     },
     "execution_count": 28,
     "metadata": {},
     "output_type": "execute_result"
    }
   ],
   "source": [
    "smoteoversampled_ld.shape, smoteoversampled_ld.columns, smoteoversampled_ld.dtypes #looking to see how many columns and rows, the names of the columns"
   ]
  },
  {
   "cell_type": "code",
   "execution_count": null,
   "id": "94847409-ad3d-426b-b20f-fc368f8236f4",
   "metadata": {},
   "outputs": [],
   "source": []
  },
  {
   "cell_type": "code",
   "execution_count": 29,
   "id": "3c91e42f-7909-4019-9263-97b9387cf164",
   "metadata": {
    "tags": []
   },
   "outputs": [
    {
     "data": {
      "application/vnd.jupyter.widget-view+json": {
       "model_id": "a292d6c0d24c45cbbda0a9dba46154bb",
       "version_major": 2,
       "version_minor": 0
      },
      "text/plain": [
       "                                             |          | [  0%]   00:00 -> (? left)"
      ]
     },
     "metadata": {},
     "output_type": "display_data"
    },
    {
     "name": "stdout",
     "output_type": "stream",
     "text": [
      "Report SWEETVIZ_REPORT.html was generated! NOTEBOOK/COLAB USERS: the web browser MAY not pop up, regardless, the report IS saved in your notebook/colab files.\n"
     ]
    }
   ],
   "source": [
    "my_report2 = sv.analyze(smoteoversampled_ld)\n",
    "my_report2.show_html() #creates the sweetviz for smote so i could look at stuff"
   ]
  },
  {
   "cell_type": "code",
   "execution_count": null,
   "id": "651bf551-24d1-4d36-83ed-dd2c74b1993d",
   "metadata": {},
   "outputs": [],
   "source": []
  },
  {
   "cell_type": "code",
   "execution_count": 30,
   "id": "596b0154-e2bf-4b9b-99e9-fef5cbf5ec75",
   "metadata": {
    "tags": []
   },
   "outputs": [],
   "source": [
    "X_os = oversampled_ld.drop(['rep_education', 'Def_ind'], axis=1)  # Exclude the string column and y\n",
    "y_os = oversampled_ld['Def_ind']  # sets the y value"
   ]
  },
  {
   "cell_type": "code",
   "execution_count": 31,
   "id": "47a31724-36c1-4d80-9a68-75080046fd0c",
   "metadata": {
    "tags": []
   },
   "outputs": [],
   "source": [
    "Xos_train, Xos_test, yos_train, yos_test = train_test_split(X_os, y_os, test_size=0.3, random_state=6) #splits up the data using the train test split function, test size is 30% and random state so it can be replicated is 6"
   ]
  },
  {
   "cell_type": "code",
   "execution_count": 32,
   "id": "ede94f9d-74ee-4c7c-8081-b019a616de3f",
   "metadata": {
    "tags": []
   },
   "outputs": [],
   "source": [
    "model = LogisticRegression(solver= 'saga', max_iter =10000) #creates the logistic regression class, "
   ]
  },
  {
   "cell_type": "code",
   "execution_count": 33,
   "id": "3aef47e6-c9b9-4fa8-976f-fcd364239865",
   "metadata": {
    "tags": []
   },
   "outputs": [
    {
     "data": {
      "text/html": [
       "<style>#sk-container-id-1 {color: black;}#sk-container-id-1 pre{padding: 0;}#sk-container-id-1 div.sk-toggleable {background-color: white;}#sk-container-id-1 label.sk-toggleable__label {cursor: pointer;display: block;width: 100%;margin-bottom: 0;padding: 0.3em;box-sizing: border-box;text-align: center;}#sk-container-id-1 label.sk-toggleable__label-arrow:before {content: \"▸\";float: left;margin-right: 0.25em;color: #696969;}#sk-container-id-1 label.sk-toggleable__label-arrow:hover:before {color: black;}#sk-container-id-1 div.sk-estimator:hover label.sk-toggleable__label-arrow:before {color: black;}#sk-container-id-1 div.sk-toggleable__content {max-height: 0;max-width: 0;overflow: hidden;text-align: left;background-color: #f0f8ff;}#sk-container-id-1 div.sk-toggleable__content pre {margin: 0.2em;color: black;border-radius: 0.25em;background-color: #f0f8ff;}#sk-container-id-1 input.sk-toggleable__control:checked~div.sk-toggleable__content {max-height: 200px;max-width: 100%;overflow: auto;}#sk-container-id-1 input.sk-toggleable__control:checked~label.sk-toggleable__label-arrow:before {content: \"▾\";}#sk-container-id-1 div.sk-estimator input.sk-toggleable__control:checked~label.sk-toggleable__label {background-color: #d4ebff;}#sk-container-id-1 div.sk-label input.sk-toggleable__control:checked~label.sk-toggleable__label {background-color: #d4ebff;}#sk-container-id-1 input.sk-hidden--visually {border: 0;clip: rect(1px 1px 1px 1px);clip: rect(1px, 1px, 1px, 1px);height: 1px;margin: -1px;overflow: hidden;padding: 0;position: absolute;width: 1px;}#sk-container-id-1 div.sk-estimator {font-family: monospace;background-color: #f0f8ff;border: 1px dotted black;border-radius: 0.25em;box-sizing: border-box;margin-bottom: 0.5em;}#sk-container-id-1 div.sk-estimator:hover {background-color: #d4ebff;}#sk-container-id-1 div.sk-parallel-item::after {content: \"\";width: 100%;border-bottom: 1px solid gray;flex-grow: 1;}#sk-container-id-1 div.sk-label:hover label.sk-toggleable__label {background-color: #d4ebff;}#sk-container-id-1 div.sk-serial::before {content: \"\";position: absolute;border-left: 1px solid gray;box-sizing: border-box;top: 0;bottom: 0;left: 50%;z-index: 0;}#sk-container-id-1 div.sk-serial {display: flex;flex-direction: column;align-items: center;background-color: white;padding-right: 0.2em;padding-left: 0.2em;position: relative;}#sk-container-id-1 div.sk-item {position: relative;z-index: 1;}#sk-container-id-1 div.sk-parallel {display: flex;align-items: stretch;justify-content: center;background-color: white;position: relative;}#sk-container-id-1 div.sk-item::before, #sk-container-id-1 div.sk-parallel-item::before {content: \"\";position: absolute;border-left: 1px solid gray;box-sizing: border-box;top: 0;bottom: 0;left: 50%;z-index: -1;}#sk-container-id-1 div.sk-parallel-item {display: flex;flex-direction: column;z-index: 1;position: relative;background-color: white;}#sk-container-id-1 div.sk-parallel-item:first-child::after {align-self: flex-end;width: 50%;}#sk-container-id-1 div.sk-parallel-item:last-child::after {align-self: flex-start;width: 50%;}#sk-container-id-1 div.sk-parallel-item:only-child::after {width: 0;}#sk-container-id-1 div.sk-dashed-wrapped {border: 1px dashed gray;margin: 0 0.4em 0.5em 0.4em;box-sizing: border-box;padding-bottom: 0.4em;background-color: white;}#sk-container-id-1 div.sk-label label {font-family: monospace;font-weight: bold;display: inline-block;line-height: 1.2em;}#sk-container-id-1 div.sk-label-container {text-align: center;}#sk-container-id-1 div.sk-container {/* jupyter's `normalize.less` sets `[hidden] { display: none; }` but bootstrap.min.css set `[hidden] { display: none !important; }` so we also need the `!important` here to be able to override the default hidden behavior on the sphinx rendered scikit-learn.org. See: https://github.com/scikit-learn/scikit-learn/issues/21755 */display: inline-block !important;position: relative;}#sk-container-id-1 div.sk-text-repr-fallback {display: none;}</style><div id=\"sk-container-id-1\" class=\"sk-top-container\"><div class=\"sk-text-repr-fallback\"><pre>LogisticRegression(max_iter=10000, solver=&#x27;saga&#x27;)</pre><b>In a Jupyter environment, please rerun this cell to show the HTML representation or trust the notebook. <br />On GitHub, the HTML representation is unable to render, please try loading this page with nbviewer.org.</b></div><div class=\"sk-container\" hidden><div class=\"sk-item\"><div class=\"sk-estimator sk-toggleable\"><input class=\"sk-toggleable__control sk-hidden--visually\" id=\"sk-estimator-id-1\" type=\"checkbox\" checked><label for=\"sk-estimator-id-1\" class=\"sk-toggleable__label sk-toggleable__label-arrow\">LogisticRegression</label><div class=\"sk-toggleable__content\"><pre>LogisticRegression(max_iter=10000, solver=&#x27;saga&#x27;)</pre></div></div></div></div></div>"
      ],
      "text/plain": [
       "LogisticRegression(max_iter=10000, solver='saga')"
      ]
     },
     "execution_count": 33,
     "metadata": {},
     "output_type": "execute_result"
    }
   ],
   "source": [
    "LogisticRegression(solver= 'saga', max_iter =10000)"
   ]
  },
  {
   "cell_type": "code",
   "execution_count": 34,
   "id": "7ed459ce-559f-40b8-b3ef-70e8bd679d1a",
   "metadata": {
    "tags": []
   },
   "outputs": [
    {
     "data": {
      "text/html": [
       "<style>#sk-container-id-2 {color: black;}#sk-container-id-2 pre{padding: 0;}#sk-container-id-2 div.sk-toggleable {background-color: white;}#sk-container-id-2 label.sk-toggleable__label {cursor: pointer;display: block;width: 100%;margin-bottom: 0;padding: 0.3em;box-sizing: border-box;text-align: center;}#sk-container-id-2 label.sk-toggleable__label-arrow:before {content: \"▸\";float: left;margin-right: 0.25em;color: #696969;}#sk-container-id-2 label.sk-toggleable__label-arrow:hover:before {color: black;}#sk-container-id-2 div.sk-estimator:hover label.sk-toggleable__label-arrow:before {color: black;}#sk-container-id-2 div.sk-toggleable__content {max-height: 0;max-width: 0;overflow: hidden;text-align: left;background-color: #f0f8ff;}#sk-container-id-2 div.sk-toggleable__content pre {margin: 0.2em;color: black;border-radius: 0.25em;background-color: #f0f8ff;}#sk-container-id-2 input.sk-toggleable__control:checked~div.sk-toggleable__content {max-height: 200px;max-width: 100%;overflow: auto;}#sk-container-id-2 input.sk-toggleable__control:checked~label.sk-toggleable__label-arrow:before {content: \"▾\";}#sk-container-id-2 div.sk-estimator input.sk-toggleable__control:checked~label.sk-toggleable__label {background-color: #d4ebff;}#sk-container-id-2 div.sk-label input.sk-toggleable__control:checked~label.sk-toggleable__label {background-color: #d4ebff;}#sk-container-id-2 input.sk-hidden--visually {border: 0;clip: rect(1px 1px 1px 1px);clip: rect(1px, 1px, 1px, 1px);height: 1px;margin: -1px;overflow: hidden;padding: 0;position: absolute;width: 1px;}#sk-container-id-2 div.sk-estimator {font-family: monospace;background-color: #f0f8ff;border: 1px dotted black;border-radius: 0.25em;box-sizing: border-box;margin-bottom: 0.5em;}#sk-container-id-2 div.sk-estimator:hover {background-color: #d4ebff;}#sk-container-id-2 div.sk-parallel-item::after {content: \"\";width: 100%;border-bottom: 1px solid gray;flex-grow: 1;}#sk-container-id-2 div.sk-label:hover label.sk-toggleable__label {background-color: #d4ebff;}#sk-container-id-2 div.sk-serial::before {content: \"\";position: absolute;border-left: 1px solid gray;box-sizing: border-box;top: 0;bottom: 0;left: 50%;z-index: 0;}#sk-container-id-2 div.sk-serial {display: flex;flex-direction: column;align-items: center;background-color: white;padding-right: 0.2em;padding-left: 0.2em;position: relative;}#sk-container-id-2 div.sk-item {position: relative;z-index: 1;}#sk-container-id-2 div.sk-parallel {display: flex;align-items: stretch;justify-content: center;background-color: white;position: relative;}#sk-container-id-2 div.sk-item::before, #sk-container-id-2 div.sk-parallel-item::before {content: \"\";position: absolute;border-left: 1px solid gray;box-sizing: border-box;top: 0;bottom: 0;left: 50%;z-index: -1;}#sk-container-id-2 div.sk-parallel-item {display: flex;flex-direction: column;z-index: 1;position: relative;background-color: white;}#sk-container-id-2 div.sk-parallel-item:first-child::after {align-self: flex-end;width: 50%;}#sk-container-id-2 div.sk-parallel-item:last-child::after {align-self: flex-start;width: 50%;}#sk-container-id-2 div.sk-parallel-item:only-child::after {width: 0;}#sk-container-id-2 div.sk-dashed-wrapped {border: 1px dashed gray;margin: 0 0.4em 0.5em 0.4em;box-sizing: border-box;padding-bottom: 0.4em;background-color: white;}#sk-container-id-2 div.sk-label label {font-family: monospace;font-weight: bold;display: inline-block;line-height: 1.2em;}#sk-container-id-2 div.sk-label-container {text-align: center;}#sk-container-id-2 div.sk-container {/* jupyter's `normalize.less` sets `[hidden] { display: none; }` but bootstrap.min.css set `[hidden] { display: none !important; }` so we also need the `!important` here to be able to override the default hidden behavior on the sphinx rendered scikit-learn.org. See: https://github.com/scikit-learn/scikit-learn/issues/21755 */display: inline-block !important;position: relative;}#sk-container-id-2 div.sk-text-repr-fallback {display: none;}</style><div id=\"sk-container-id-2\" class=\"sk-top-container\"><div class=\"sk-text-repr-fallback\"><pre>LogisticRegression(max_iter=10000, solver=&#x27;saga&#x27;)</pre><b>In a Jupyter environment, please rerun this cell to show the HTML representation or trust the notebook. <br />On GitHub, the HTML representation is unable to render, please try loading this page with nbviewer.org.</b></div><div class=\"sk-container\" hidden><div class=\"sk-item\"><div class=\"sk-estimator sk-toggleable\"><input class=\"sk-toggleable__control sk-hidden--visually\" id=\"sk-estimator-id-2\" type=\"checkbox\" checked><label for=\"sk-estimator-id-2\" class=\"sk-toggleable__label sk-toggleable__label-arrow\">LogisticRegression</label><div class=\"sk-toggleable__content\"><pre>LogisticRegression(max_iter=10000, solver=&#x27;saga&#x27;)</pre></div></div></div></div></div>"
      ],
      "text/plain": [
       "LogisticRegression(max_iter=10000, solver='saga')"
      ]
     },
     "execution_count": 34,
     "metadata": {},
     "output_type": "execute_result"
    }
   ],
   "source": [
    "model.fit(Xos_train,yos_train) #fits the training group"
   ]
  },
  {
   "cell_type": "code",
   "execution_count": 35,
   "id": "f25473c8-734c-44c9-acb6-dd612cc727da",
   "metadata": {
    "tags": []
   },
   "outputs": [],
   "source": [
    "yos_pred = model.predict(Xos_test)#makes the predictions"
   ]
  },
  {
   "cell_type": "code",
   "execution_count": 36,
   "id": "cea70219-c6d1-44f1-9859-609f8dd0a7ed",
   "metadata": {
    "tags": []
   },
   "outputs": [
    {
     "name": "stdout",
     "output_type": "stream",
     "text": [
      "Accuracy OverSample: 0.643426\n",
      "Precision OverSample: 0.657503\n",
      "Recall OverSample: 0.643426\n"
     ]
    }
   ],
   "source": [
    "accuracyos = accuracy_score(yos_test, yos_pred)\n",
    "precisionos = precision_score(yos_test, yos_pred, average='weighted')  # chose weighted becasue it calculates metrics for each class and takes the mean with class weights based on support.\n",
    "recallos = recall_score(yos_test, yos_pred, average='weighted')\n",
    "\n",
    "print(f\"Accuracy OverSample: {accuracyos:.6f}\") #prints each one and makes it have 6 significant figures. \n",
    "print(f\"Precision OverSample: {precisionos:.6f}\")\n",
    "print(f\"Recall OverSample: {recallos:.6f}\")"
   ]
  },
  {
   "cell_type": "code",
   "execution_count": 37,
   "id": "fbcab0ac-be8e-42d1-a26c-75ea5a989095",
   "metadata": {
    "tags": []
   },
   "outputs": [],
   "source": [
    "X_us = undersampled_ld.drop(['rep_education', 'Def_ind'], axis=1)  # Exclude the string column and y\n",
    "y_us = undersampled_ld['Def_ind']  # sets the y value"
   ]
  },
  {
   "cell_type": "code",
   "execution_count": 38,
   "id": "efe975a1-9cdb-4421-9c2d-007e0da8d219",
   "metadata": {
    "tags": []
   },
   "outputs": [],
   "source": [
    "Xus_train, Xus_test, yus_train, yus_test = train_test_split(X_us, y_us, test_size=0.3, random_state=6)#splits up the data using the train test split function, test size is 30% and random state so it can be replicated is 6"
   ]
  },
  {
   "cell_type": "code",
   "execution_count": 39,
   "id": "9d5bfc43-d674-451b-a8da-2c4a1944bee1",
   "metadata": {
    "tags": []
   },
   "outputs": [
    {
     "data": {
      "text/html": [
       "<style>#sk-container-id-3 {color: black;}#sk-container-id-3 pre{padding: 0;}#sk-container-id-3 div.sk-toggleable {background-color: white;}#sk-container-id-3 label.sk-toggleable__label {cursor: pointer;display: block;width: 100%;margin-bottom: 0;padding: 0.3em;box-sizing: border-box;text-align: center;}#sk-container-id-3 label.sk-toggleable__label-arrow:before {content: \"▸\";float: left;margin-right: 0.25em;color: #696969;}#sk-container-id-3 label.sk-toggleable__label-arrow:hover:before {color: black;}#sk-container-id-3 div.sk-estimator:hover label.sk-toggleable__label-arrow:before {color: black;}#sk-container-id-3 div.sk-toggleable__content {max-height: 0;max-width: 0;overflow: hidden;text-align: left;background-color: #f0f8ff;}#sk-container-id-3 div.sk-toggleable__content pre {margin: 0.2em;color: black;border-radius: 0.25em;background-color: #f0f8ff;}#sk-container-id-3 input.sk-toggleable__control:checked~div.sk-toggleable__content {max-height: 200px;max-width: 100%;overflow: auto;}#sk-container-id-3 input.sk-toggleable__control:checked~label.sk-toggleable__label-arrow:before {content: \"▾\";}#sk-container-id-3 div.sk-estimator input.sk-toggleable__control:checked~label.sk-toggleable__label {background-color: #d4ebff;}#sk-container-id-3 div.sk-label input.sk-toggleable__control:checked~label.sk-toggleable__label {background-color: #d4ebff;}#sk-container-id-3 input.sk-hidden--visually {border: 0;clip: rect(1px 1px 1px 1px);clip: rect(1px, 1px, 1px, 1px);height: 1px;margin: -1px;overflow: hidden;padding: 0;position: absolute;width: 1px;}#sk-container-id-3 div.sk-estimator {font-family: monospace;background-color: #f0f8ff;border: 1px dotted black;border-radius: 0.25em;box-sizing: border-box;margin-bottom: 0.5em;}#sk-container-id-3 div.sk-estimator:hover {background-color: #d4ebff;}#sk-container-id-3 div.sk-parallel-item::after {content: \"\";width: 100%;border-bottom: 1px solid gray;flex-grow: 1;}#sk-container-id-3 div.sk-label:hover label.sk-toggleable__label {background-color: #d4ebff;}#sk-container-id-3 div.sk-serial::before {content: \"\";position: absolute;border-left: 1px solid gray;box-sizing: border-box;top: 0;bottom: 0;left: 50%;z-index: 0;}#sk-container-id-3 div.sk-serial {display: flex;flex-direction: column;align-items: center;background-color: white;padding-right: 0.2em;padding-left: 0.2em;position: relative;}#sk-container-id-3 div.sk-item {position: relative;z-index: 1;}#sk-container-id-3 div.sk-parallel {display: flex;align-items: stretch;justify-content: center;background-color: white;position: relative;}#sk-container-id-3 div.sk-item::before, #sk-container-id-3 div.sk-parallel-item::before {content: \"\";position: absolute;border-left: 1px solid gray;box-sizing: border-box;top: 0;bottom: 0;left: 50%;z-index: -1;}#sk-container-id-3 div.sk-parallel-item {display: flex;flex-direction: column;z-index: 1;position: relative;background-color: white;}#sk-container-id-3 div.sk-parallel-item:first-child::after {align-self: flex-end;width: 50%;}#sk-container-id-3 div.sk-parallel-item:last-child::after {align-self: flex-start;width: 50%;}#sk-container-id-3 div.sk-parallel-item:only-child::after {width: 0;}#sk-container-id-3 div.sk-dashed-wrapped {border: 1px dashed gray;margin: 0 0.4em 0.5em 0.4em;box-sizing: border-box;padding-bottom: 0.4em;background-color: white;}#sk-container-id-3 div.sk-label label {font-family: monospace;font-weight: bold;display: inline-block;line-height: 1.2em;}#sk-container-id-3 div.sk-label-container {text-align: center;}#sk-container-id-3 div.sk-container {/* jupyter's `normalize.less` sets `[hidden] { display: none; }` but bootstrap.min.css set `[hidden] { display: none !important; }` so we also need the `!important` here to be able to override the default hidden behavior on the sphinx rendered scikit-learn.org. See: https://github.com/scikit-learn/scikit-learn/issues/21755 */display: inline-block !important;position: relative;}#sk-container-id-3 div.sk-text-repr-fallback {display: none;}</style><div id=\"sk-container-id-3\" class=\"sk-top-container\"><div class=\"sk-text-repr-fallback\"><pre>LogisticRegression(max_iter=10000, solver=&#x27;saga&#x27;)</pre><b>In a Jupyter environment, please rerun this cell to show the HTML representation or trust the notebook. <br />On GitHub, the HTML representation is unable to render, please try loading this page with nbviewer.org.</b></div><div class=\"sk-container\" hidden><div class=\"sk-item\"><div class=\"sk-estimator sk-toggleable\"><input class=\"sk-toggleable__control sk-hidden--visually\" id=\"sk-estimator-id-3\" type=\"checkbox\" checked><label for=\"sk-estimator-id-3\" class=\"sk-toggleable__label sk-toggleable__label-arrow\">LogisticRegression</label><div class=\"sk-toggleable__content\"><pre>LogisticRegression(max_iter=10000, solver=&#x27;saga&#x27;)</pre></div></div></div></div></div>"
      ],
      "text/plain": [
       "LogisticRegression(max_iter=10000, solver='saga')"
      ]
     },
     "execution_count": 39,
     "metadata": {},
     "output_type": "execute_result"
    }
   ],
   "source": [
    "model.fit(Xus_train,yus_train) #fits the model with the x training set and y training"
   ]
  },
  {
   "cell_type": "code",
   "execution_count": 40,
   "id": "8df684bf-025c-4d75-bc57-71bc3949499d",
   "metadata": {
    "tags": []
   },
   "outputs": [],
   "source": [
    "yus_pred = model.predict(Xus_test) #makes the predictions"
   ]
  },
  {
   "cell_type": "code",
   "execution_count": 41,
   "id": "55802cd5-254c-4df2-9f66-596cfdf2cdf7",
   "metadata": {
    "tags": []
   },
   "outputs": [
    {
     "name": "stdout",
     "output_type": "stream",
     "text": [
      "Accuracy UnderSample: 0.668333\n",
      "Precision UnderSample: 0.685190\n",
      "Recall UnderSample: 0.668333\n"
     ]
    }
   ],
   "source": [
    "accuracyus = accuracy_score(yus_test, yus_pred)\n",
    "precisionus = precision_score(yus_test, yus_pred, average='weighted')  # chose weighted becasue it calculates metrics for each class and takes the mean with class weights based on support.\n",
    "recallus = recall_score(yus_test, yus_pred, average='weighted')\n",
    "\n",
    "print(f\"Accuracy UnderSample: {accuracyus:.6f}\") #prints each one and makes it have 6 significant figures. \n",
    "print(f\"Precision UnderSample: {precisionus:.6f}\")\n",
    "print(f\"Recall UnderSample: {recallus:.6f}\")"
   ]
  },
  {
   "cell_type": "code",
   "execution_count": 42,
   "id": "5fc84bfc-c3f3-4d02-93d2-9bdd17f63ab3",
   "metadata": {
    "tags": []
   },
   "outputs": [],
   "source": [
    "X_sm = smoteoversampled_ld.drop([ 'Def_ind'], axis=1)  # Exclude the y\n",
    "y_sm = smoteoversampled_ld['Def_ind']  # sets the y value"
   ]
  },
  {
   "cell_type": "code",
   "execution_count": 43,
   "id": "10f6707e-7009-45f2-97cc-fc1f11c08f69",
   "metadata": {
    "tags": []
   },
   "outputs": [],
   "source": [
    "Xsm_train, Xsm_test, ysm_train, ysm_test = train_test_split(X_sm, y_sm, test_size=0.3, random_state=6)#splits up the data using the train test split function, test size is 30% and random state so it can be replicated is 6"
   ]
  },
  {
   "cell_type": "code",
   "execution_count": 44,
   "id": "ea9c2c35-54a6-4fea-b31a-b92af9c6a9fd",
   "metadata": {
    "tags": []
   },
   "outputs": [
    {
     "data": {
      "text/html": [
       "<style>#sk-container-id-4 {color: black;}#sk-container-id-4 pre{padding: 0;}#sk-container-id-4 div.sk-toggleable {background-color: white;}#sk-container-id-4 label.sk-toggleable__label {cursor: pointer;display: block;width: 100%;margin-bottom: 0;padding: 0.3em;box-sizing: border-box;text-align: center;}#sk-container-id-4 label.sk-toggleable__label-arrow:before {content: \"▸\";float: left;margin-right: 0.25em;color: #696969;}#sk-container-id-4 label.sk-toggleable__label-arrow:hover:before {color: black;}#sk-container-id-4 div.sk-estimator:hover label.sk-toggleable__label-arrow:before {color: black;}#sk-container-id-4 div.sk-toggleable__content {max-height: 0;max-width: 0;overflow: hidden;text-align: left;background-color: #f0f8ff;}#sk-container-id-4 div.sk-toggleable__content pre {margin: 0.2em;color: black;border-radius: 0.25em;background-color: #f0f8ff;}#sk-container-id-4 input.sk-toggleable__control:checked~div.sk-toggleable__content {max-height: 200px;max-width: 100%;overflow: auto;}#sk-container-id-4 input.sk-toggleable__control:checked~label.sk-toggleable__label-arrow:before {content: \"▾\";}#sk-container-id-4 div.sk-estimator input.sk-toggleable__control:checked~label.sk-toggleable__label {background-color: #d4ebff;}#sk-container-id-4 div.sk-label input.sk-toggleable__control:checked~label.sk-toggleable__label {background-color: #d4ebff;}#sk-container-id-4 input.sk-hidden--visually {border: 0;clip: rect(1px 1px 1px 1px);clip: rect(1px, 1px, 1px, 1px);height: 1px;margin: -1px;overflow: hidden;padding: 0;position: absolute;width: 1px;}#sk-container-id-4 div.sk-estimator {font-family: monospace;background-color: #f0f8ff;border: 1px dotted black;border-radius: 0.25em;box-sizing: border-box;margin-bottom: 0.5em;}#sk-container-id-4 div.sk-estimator:hover {background-color: #d4ebff;}#sk-container-id-4 div.sk-parallel-item::after {content: \"\";width: 100%;border-bottom: 1px solid gray;flex-grow: 1;}#sk-container-id-4 div.sk-label:hover label.sk-toggleable__label {background-color: #d4ebff;}#sk-container-id-4 div.sk-serial::before {content: \"\";position: absolute;border-left: 1px solid gray;box-sizing: border-box;top: 0;bottom: 0;left: 50%;z-index: 0;}#sk-container-id-4 div.sk-serial {display: flex;flex-direction: column;align-items: center;background-color: white;padding-right: 0.2em;padding-left: 0.2em;position: relative;}#sk-container-id-4 div.sk-item {position: relative;z-index: 1;}#sk-container-id-4 div.sk-parallel {display: flex;align-items: stretch;justify-content: center;background-color: white;position: relative;}#sk-container-id-4 div.sk-item::before, #sk-container-id-4 div.sk-parallel-item::before {content: \"\";position: absolute;border-left: 1px solid gray;box-sizing: border-box;top: 0;bottom: 0;left: 50%;z-index: -1;}#sk-container-id-4 div.sk-parallel-item {display: flex;flex-direction: column;z-index: 1;position: relative;background-color: white;}#sk-container-id-4 div.sk-parallel-item:first-child::after {align-self: flex-end;width: 50%;}#sk-container-id-4 div.sk-parallel-item:last-child::after {align-self: flex-start;width: 50%;}#sk-container-id-4 div.sk-parallel-item:only-child::after {width: 0;}#sk-container-id-4 div.sk-dashed-wrapped {border: 1px dashed gray;margin: 0 0.4em 0.5em 0.4em;box-sizing: border-box;padding-bottom: 0.4em;background-color: white;}#sk-container-id-4 div.sk-label label {font-family: monospace;font-weight: bold;display: inline-block;line-height: 1.2em;}#sk-container-id-4 div.sk-label-container {text-align: center;}#sk-container-id-4 div.sk-container {/* jupyter's `normalize.less` sets `[hidden] { display: none; }` but bootstrap.min.css set `[hidden] { display: none !important; }` so we also need the `!important` here to be able to override the default hidden behavior on the sphinx rendered scikit-learn.org. See: https://github.com/scikit-learn/scikit-learn/issues/21755 */display: inline-block !important;position: relative;}#sk-container-id-4 div.sk-text-repr-fallback {display: none;}</style><div id=\"sk-container-id-4\" class=\"sk-top-container\"><div class=\"sk-text-repr-fallback\"><pre>LogisticRegression(max_iter=10000, solver=&#x27;saga&#x27;)</pre><b>In a Jupyter environment, please rerun this cell to show the HTML representation or trust the notebook. <br />On GitHub, the HTML representation is unable to render, please try loading this page with nbviewer.org.</b></div><div class=\"sk-container\" hidden><div class=\"sk-item\"><div class=\"sk-estimator sk-toggleable\"><input class=\"sk-toggleable__control sk-hidden--visually\" id=\"sk-estimator-id-4\" type=\"checkbox\" checked><label for=\"sk-estimator-id-4\" class=\"sk-toggleable__label sk-toggleable__label-arrow\">LogisticRegression</label><div class=\"sk-toggleable__content\"><pre>LogisticRegression(max_iter=10000, solver=&#x27;saga&#x27;)</pre></div></div></div></div></div>"
      ],
      "text/plain": [
       "LogisticRegression(max_iter=10000, solver='saga')"
      ]
     },
     "execution_count": 44,
     "metadata": {},
     "output_type": "execute_result"
    }
   ],
   "source": [
    "model.fit(Xsm_train,ysm_train)#fits the model with the x training set and y training"
   ]
  },
  {
   "cell_type": "code",
   "execution_count": 45,
   "id": "1cf189fe-c870-4ae6-95d6-294c783e9087",
   "metadata": {
    "tags": []
   },
   "outputs": [],
   "source": [
    "ysm_pred = model.predict(Xsm_test)#makes the predictions"
   ]
  },
  {
   "cell_type": "code",
   "execution_count": 46,
   "id": "b28348d6-31ab-4425-80ca-c6f96eeb9983",
   "metadata": {
    "tags": []
   },
   "outputs": [
    {
     "name": "stdout",
     "output_type": "stream",
     "text": [
      "Accuracy Smote: 0.641389\n",
      "Precision Smote: 0.649943\n",
      "Recall Smote: 0.641389\n"
     ]
    }
   ],
   "source": [
    "accuracysm = accuracy_score(ysm_test, ysm_pred)\n",
    "precisionsm = precision_score(ysm_test, ysm_pred, average='weighted')  # chose weighted becasue it calculates metrics for each class and takes the mean with class weights based on support.\n",
    "recallsm = recall_score(ysm_test, ysm_pred, average='weighted')\n",
    "\n",
    "print(f\"Accuracy Smote: {accuracysm:.6f}\") #prints each one and makes it have 6 significant figures. \n",
    "print(f\"Precision Smote: {precisionsm:.6f}\")\n",
    "print(f\"Recall Smote: {recallsm:.6f}\")"
   ]
  },
  {
   "cell_type": "code",
   "execution_count": 47,
   "id": "bcb4cdc8-000d-41be-887c-97c2a1f52a8e",
   "metadata": {
    "tags": []
   },
   "outputs": [
    {
     "data": {
      "image/png": "[encoded data removed]",
      "text/plain": [
       "<Figure size 800x600 with 1 Axes>"
      ]
     },
     "metadata": {},
     "output_type": "display_data"
    }
   ],
   "source": [
    "# Get predicted probabilities for the positive class\n",
    "yos_prob = model.predict_proba(Xos_test)[:, 1]\n",
    "\n",
    "# Calculate the ROC curve\n",
    "fpros, tpros, thresholdsos = roc_curve(yos_test, yos_prob)\n",
    "\n",
    "# Calculate the Area Under the Curve\n",
    "roc_aucos = roc_auc_score(yos_test, yos_prob)\n",
    "\n",
    "# Plot the ROC curve\n",
    "plt.figure(figsize=(8, 6))\n",
    "plt.plot(fpros, tpros, color='darkorange', lw=2, label=f'ROC curve (AUC = {roc_aucos:.2f})')\n",
    "plt.plot([0, 1], [0, 1], color='navy', lw=2, linestyle='--')\n",
    "plt.xlim([0.0, 1.0])\n",
    "plt.ylim([0.0, 1.05])\n",
    "plt.xlabel('False Positive Rate')\n",
    "plt.ylabel('True Positive Rate')\n",
    "plt.title('Receiver Operating Characteristic (ROC) Curve')\n",
    "plt.legend(loc='lower right')\n",
    "plt.show()"
   ]
  },
  {
   "cell_type": "code",
   "execution_count": 48,
   "id": "9b2754ab-7c94-4f41-8496-b30563227b2c",
   "metadata": {
    "tags": []
   },
   "outputs": [
    {
     "data": {
      "image/png": "[encoded data removed]",
      "text/plain": [
       "<Figure size 800x600 with 1 Axes>"
      ]
     },
     "metadata": {},
     "output_type": "display_data"
    }
   ],
   "source": [
    "# Get predicted probabilities for the positive class\n",
    "#Using the UnderSampling Method\n",
    "yus_prob = model.predict_proba(Xus_test)[:, 1]\n",
    "\n",
    "# Calculate the ROC curve\n",
    "fprus, tprus, thresholdsus = roc_curve(yus_test, yus_prob)\n",
    "\n",
    "# Calculate the Area Under the Curve\n",
    "roc_aucus = roc_auc_score(yus_test, yus_prob)\n",
    "\n",
    "# Plot the ROC curve\n",
    "plt.figure(figsize=(8, 6))\n",
    "plt.plot(fprus, tprus, color='darkorange', lw=2, label=f'ROC curve (AUC = {roc_aucus:.2f})')\n",
    "plt.plot([0, 1], [0, 1], color='navy', lw=2, linestyle='--')\n",
    "plt.xlim([0.0, 1.0])\n",
    "plt.ylim([0.0, 1.05])\n",
    "plt.xlabel('False Positive Rate')\n",
    "plt.ylabel('True Positive Rate')\n",
    "plt.title('Receiver Operating Characteristic (ROC) Curve')\n",
    "plt.legend(loc='lower right')\n",
    "plt.show()"
   ]
  },
  {
   "cell_type": "code",
   "execution_count": 49,
   "id": "a9c14842-e102-4931-ba3a-3dd74328d90d",
   "metadata": {
    "tags": []
   },
   "outputs": [
    {
     "data": {
      "image/png": "[encoded data removed]",
      "text/plain": [
       "<Figure size 800x600 with 1 Axes>"
      ]
     },
     "metadata": {},
     "output_type": "display_data"
    }
   ],
   "source": [
    "# Get predicted probabilities for the positive class\n",
    "#Using the smote Method\n",
    "ysm_prob = model.predict_proba(Xsm_test)[:, 1]\n",
    "\n",
    "# Calculate the ROC curve\n",
    "fprsm, tprsm, thresholdssm = roc_curve(ysm_test, ysm_prob)\n",
    "\n",
    "# Calculate the Area Under the Curve\n",
    "roc_aucsm = roc_auc_score(ysm_test, ysm_prob)\n",
    "\n",
    "# Plot the ROC curve\n",
    "plt.figure(figsize=(8, 6))\n",
    "plt.plot(fprsm, tprsm, color='darkorange', lw=2, label=f'ROC curve (AUC = {roc_aucsm:.2f})')\n",
    "plt.plot([0, 1], [0, 1], color='navy', lw=2, linestyle='--')\n",
    "plt.xlim([0.0, 1.0])\n",
    "plt.ylim([0.0, 1.05])\n",
    "plt.xlabel('False Positive Rate')\n",
    "plt.ylabel('True Positive Rate')\n",
    "plt.title('Receiver Operating Characteristic (ROC) Curve')\n",
    "plt.legend(loc='lower right')\n",
    "plt.show()"
   ]
  },
  {
   "cell_type": "code",
   "execution_count": 50,
   "id": "e24f9f4d-1f52-49e2-a25c-8a9ce28152e4",
   "metadata": {
    "tags": []
   },
   "outputs": [],
   "source": [
    "# Based on the ROC Curve and the AUC number, I think the best model based on the curve is the UnderSampling model. The AUC is largest which is .69 which is a little better than random guessing. The ROC curve is the largest distance away from the dashed line. "
   ]
  },
  {
   "cell_type": "code",
   "execution_count": 51,
   "id": "3c345b89-b872-4765-b4bb-e0e92e7d2258",
   "metadata": {
    "tags": []
   },
   "outputs": [],
   "source": [
    "model2 = LinearDiscriminantAnalysis() #creates the LDA class"
   ]
  },
  {
   "cell_type": "code",
   "execution_count": 52,
   "id": "1b99a81e-267d-4b49-a600-a4175bd766c3",
   "metadata": {
    "tags": []
   },
   "outputs": [
    {
     "data": {
      "text/html": [
       "<style>#sk-container-id-5 {color: black;}#sk-container-id-5 pre{padding: 0;}#sk-container-id-5 div.sk-toggleable {background-color: white;}#sk-container-id-5 label.sk-toggleable__label {cursor: pointer;display: block;width: 100%;margin-bottom: 0;padding: 0.3em;box-sizing: border-box;text-align: center;}#sk-container-id-5 label.sk-toggleable__label-arrow:before {content: \"▸\";float: left;margin-right: 0.25em;color: #696969;}#sk-container-id-5 label.sk-toggleable__label-arrow:hover:before {color: black;}#sk-container-id-5 div.sk-estimator:hover label.sk-toggleable__label-arrow:before {color: black;}#sk-container-id-5 div.sk-toggleable__content {max-height: 0;max-width: 0;overflow: hidden;text-align: left;background-color: #f0f8ff;}#sk-container-id-5 div.sk-toggleable__content pre {margin: 0.2em;color: black;border-radius: 0.25em;background-color: #f0f8ff;}#sk-container-id-5 input.sk-toggleable__control:checked~div.sk-toggleable__content {max-height: 200px;max-width: 100%;overflow: auto;}#sk-container-id-5 input.sk-toggleable__control:checked~label.sk-toggleable__label-arrow:before {content: \"▾\";}#sk-container-id-5 div.sk-estimator input.sk-toggleable__control:checked~label.sk-toggleable__label {background-color: #d4ebff;}#sk-container-id-5 div.sk-label input.sk-toggleable__control:checked~label.sk-toggleable__label {background-color: #d4ebff;}#sk-container-id-5 input.sk-hidden--visually {border: 0;clip: rect(1px 1px 1px 1px);clip: rect(1px, 1px, 1px, 1px);height: 1px;margin: -1px;overflow: hidden;padding: 0;position: absolute;width: 1px;}#sk-container-id-5 div.sk-estimator {font-family: monospace;background-color: #f0f8ff;border: 1px dotted black;border-radius: 0.25em;box-sizing: border-box;margin-bottom: 0.5em;}#sk-container-id-5 div.sk-estimator:hover {background-color: #d4ebff;}#sk-container-id-5 div.sk-parallel-item::after {content: \"\";width: 100%;border-bottom: 1px solid gray;flex-grow: 1;}#sk-container-id-5 div.sk-label:hover label.sk-toggleable__label {background-color: #d4ebff;}#sk-container-id-5 div.sk-serial::before {content: \"\";position: absolute;border-left: 1px solid gray;box-sizing: border-box;top: 0;bottom: 0;left: 50%;z-index: 0;}#sk-container-id-5 div.sk-serial {display: flex;flex-direction: column;align-items: center;background-color: white;padding-right: 0.2em;padding-left: 0.2em;position: relative;}#sk-container-id-5 div.sk-item {position: relative;z-index: 1;}#sk-container-id-5 div.sk-parallel {display: flex;align-items: stretch;justify-content: center;background-color: white;position: relative;}#sk-container-id-5 div.sk-item::before, #sk-container-id-5 div.sk-parallel-item::before {content: \"\";position: absolute;border-left: 1px solid gray;box-sizing: border-box;top: 0;bottom: 0;left: 50%;z-index: -1;}#sk-container-id-5 div.sk-parallel-item {display: flex;flex-direction: column;z-index: 1;position: relative;background-color: white;}#sk-container-id-5 div.sk-parallel-item:first-child::after {align-self: flex-end;width: 50%;}#sk-container-id-5 div.sk-parallel-item:last-child::after {align-self: flex-start;width: 50%;}#sk-container-id-5 div.sk-parallel-item:only-child::after {width: 0;}#sk-container-id-5 div.sk-dashed-wrapped {border: 1px dashed gray;margin: 0 0.4em 0.5em 0.4em;box-sizing: border-box;padding-bottom: 0.4em;background-color: white;}#sk-container-id-5 div.sk-label label {font-family: monospace;font-weight: bold;display: inline-block;line-height: 1.2em;}#sk-container-id-5 div.sk-label-container {text-align: center;}#sk-container-id-5 div.sk-container {/* jupyter's `normalize.less` sets `[hidden] { display: none; }` but bootstrap.min.css set `[hidden] { display: none !important; }` so we also need the `!important` here to be able to override the default hidden behavior on the sphinx rendered scikit-learn.org. See: https://github.com/scikit-learn/scikit-learn/issues/21755 */display: inline-block !important;position: relative;}#sk-container-id-5 div.sk-text-repr-fallback {display: none;}</style><div id=\"sk-container-id-5\" class=\"sk-top-container\"><div class=\"sk-text-repr-fallback\"><pre>LinearDiscriminantAnalysis()</pre><b>In a Jupyter environment, please rerun this cell to show the HTML representation or trust the notebook. <br />On GitHub, the HTML representation is unable to render, please try loading this page with nbviewer.org.</b></div><div class=\"sk-container\" hidden><div class=\"sk-item\"><div class=\"sk-estimator sk-toggleable\"><input class=\"sk-toggleable__control sk-hidden--visually\" id=\"sk-estimator-id-5\" type=\"checkbox\" checked><label for=\"sk-estimator-id-5\" class=\"sk-toggleable__label sk-toggleable__label-arrow\">LinearDiscriminantAnalysis</label><div class=\"sk-toggleable__content\"><pre>LinearDiscriminantAnalysis()</pre></div></div></div></div></div>"
      ],
      "text/plain": [
       "LinearDiscriminantAnalysis()"
      ]
     },
     "execution_count": 52,
     "metadata": {},
     "output_type": "execute_result"
    }
   ],
   "source": [
    "LinearDiscriminantAnalysis()"
   ]
  },
  {
   "cell_type": "code",
   "execution_count": 53,
   "id": "717c4606-20b7-4a95-bcd5-cb02437fa3a3",
   "metadata": {
    "tags": []
   },
   "outputs": [
    {
     "name": "stdout",
     "output_type": "stream",
     "text": [
      "Accuracy OS 2: 0.725648\n",
      "Precision OS 2: 0.726517\n",
      "Recall OS 2: 0.725648\n"
     ]
    }
   ],
   "source": [
    "model2.fit(Xos_train, yos_train)\n",
    "y2os_pred = model2.predict(Xos_test)\n",
    "model2.coef_ #coefficient for each column\n",
    "\n",
    "accuracy_OS2 = accuracy_score(yos_test, y2os_pred)\n",
    "precision_OS2 = precision_score(yos_test, y2os_pred, average='weighted')  # chose weighted becasue it calculates metrics for each class and takes the mean with class weights based on support.\n",
    "recall_OS2 = recall_score(yos_test, y2os_pred, average='weighted')\n",
    "\n",
    "print(f\"Accuracy OS 2: {accuracy_OS2:.6f}\") #prints each one and makes it have 6 significant figures. \n",
    "print(f\"Precision OS 2: {precision_OS2:.6f}\")\n",
    "print(f\"Recall OS 2: {recall_OS2:.6f}\")\n"
   ]
  },
  {
   "cell_type": "code",
   "execution_count": 54,
   "id": "e4475622-063b-4c63-8f84-b119ed771734",
   "metadata": {
    "tags": []
   },
   "outputs": [
    {
     "name": "stdout",
     "output_type": "stream",
     "text": [
      "Accuracy OS 2: 0.725833\n",
      "Precision OS 2: 0.726584\n",
      "Recall OS 2: 0.725833\n"
     ]
    }
   ],
   "source": [
    "model2.fit(Xus_train, yus_train)\n",
    "y2us_pred = model2.predict(Xus_test)\n",
    "model2.coef_ #coefficient for each column\n",
    "\n",
    "accuracy_US2 = accuracy_score(yus_test, y2us_pred)\n",
    "precision_US2 = precision_score(yus_test, y2us_pred, average='weighted')  # chose weighted becasue it calculates metrics for each class and takes the mean with class weights based on support.\n",
    "recall_US2 = recall_score(yus_test, y2us_pred, average='weighted')\n",
    "\n",
    "print(f\"Accuracy OS 2: {accuracy_US2:.6f}\") #prints each one and makes it have 6 significant figures. \n",
    "print(f\"Precision OS 2: {precision_US2:.6f}\")\n",
    "print(f\"Recall OS 2: {recall_US2:.6f}\")"
   ]
  },
  {
   "cell_type": "code",
   "execution_count": 55,
   "id": "db5e3e64-caff-4a0a-8672-193d250329ac",
   "metadata": {
    "tags": []
   },
   "outputs": [
    {
     "name": "stdout",
     "output_type": "stream",
     "text": [
      "Accuracy Sm 2: 0.755185\n",
      "Precision Sm 2: 0.756587\n",
      "Recall Sm 2: 0.755185\n"
     ]
    }
   ],
   "source": [
    "model2.fit(Xsm_train, ysm_train)\n",
    "y2sm_pred = model2.predict(Xsm_test)\n",
    "model2.coef_ #coefficient for each column\n",
    "\n",
    "accuracy_sm2 = accuracy_score(ysm_test, y2sm_pred)\n",
    "precision_sm2 = precision_score(ysm_test, y2sm_pred, average='weighted')  # chose weighted becasue it calculates metrics for each class and takes the mean with class weights based on support.\n",
    "recall_sm2 = recall_score(ysm_test, y2sm_pred, average='weighted')\n",
    "\n",
    "print(f\"Accuracy Sm 2: {accuracy_sm2:.6f}\") #prints each one and makes it have 6 significant figures. \n",
    "print(f\"Precision Sm 2: {precision_sm2:.6f}\")\n",
    "print(f\"Recall Sm 2: {recall_sm2:.6f}\")"
   ]
  },
  {
   "cell_type": "code",
   "execution_count": 56,
   "id": "d4007bdf-7fae-4257-ab3b-aec30767052c",
   "metadata": {
    "tags": []
   },
   "outputs": [],
   "source": [
    "# For Accuracy Precision and Recall, The OverSampling and Smote logistic regression methods had it around .64, so they were correct around 64% of the time.On the otherhand, the Undersampling had it at about .68, so it was correct about 68% of the time. 4% better than the OverSampling and Smote. "
   ]
  },
  {
   "cell_type": "code",
   "execution_count": 57,
   "id": "56d1a65e-4df1-4d4f-9eb2-b1417c39620b",
   "metadata": {
    "tags": []
   },
   "outputs": [],
   "source": [
    "#For the LDA, the Undersamplin and OverSampling models had their accuracy, precision anad recall all around .72 or correct about 72% of the time. For smote on the otherhand, The three were all around .75, so 75% correct. This was 3% better than the OverSampling and Undersampling techniques. "
   ]
  },
  {
   "cell_type": "code",
   "execution_count": 58,
   "id": "e7194a37-4841-4d16-9607-d6ad9b1abb38",
   "metadata": {
    "tags": []
   },
   "outputs": [],
   "source": [
    "#Because the UnderSampling technique was 4% better for the logistic regression and it had a better ROC_AUC, I would take the Undersampling method as my method of choice. It performed better than Smote and OverSampling on 2/3 tests. "
   ]
  },
  {
   "cell_type": "code",
   "execution_count": 59,
   "id": "1a2419c4-fc43-46c3-b1f6-77f89bef0ffb",
   "metadata": {
    "tags": []
   },
   "outputs": [],
   "source": [
    "# Since it performed better on 2/3 tests, I think it would be a better model in general. "
   ]
  },
  {
   "cell_type": "code",
   "execution_count": null,
   "id": "04b032c7-ad22-4fc0-b7ec-7e90a8de5027",
   "metadata": {},
   "outputs": [],
   "source": []
  }
 ],
 "metadata": {
  "kernelspec": {
   "display_name": "Python 3 (ipykernel)",
   "language": "python",
   "name": "python3"
  },
  "language_info": {
   "codemirror_mode": {
    "name": "ipython",
    "version": 3
   },
   "file_extension": ".py",
   "mimetype": "text/x-python",
   "name": "python",
   "nbconvert_exporter": "python",
   "pygments_lexer": "ipython3",
   "version": "3.11.4"
  }
 },
 "nbformat": 4,
 "nbformat_minor": 5
}
